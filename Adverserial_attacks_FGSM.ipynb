{
  "nbformat": 4,
  "nbformat_minor": 0,
  "metadata": {
    "colab": {
      "name": "Adverserial attacks -FGSM.ipynb",
      "provenance": [],
      "collapsed_sections": [],
      "toc_visible": true
    },
    "kernelspec": {
      "name": "python3",
      "display_name": "Python 3"
    },
    "accelerator": "GPU",
    "widgets": {
      "application/vnd.jupyter.widget-state+json": {
        "0c6ae84ab10f425cb4b1fb7adebc52d1": {
          "model_module": "@jupyter-widgets/controls",
          "model_name": "HBoxModel",
          "state": {
            "_view_name": "HBoxView",
            "_dom_classes": [],
            "_model_name": "HBoxModel",
            "_view_module": "@jupyter-widgets/controls",
            "_model_module_version": "1.5.0",
            "_view_count": null,
            "_view_module_version": "1.5.0",
            "box_style": "",
            "layout": "IPY_MODEL_f2a2f03b7a1b48988ba29192df29c20b",
            "_model_module": "@jupyter-widgets/controls",
            "children": [
              "IPY_MODEL_19ceceadd2de4804b7ce0c1d8abc8157",
              "IPY_MODEL_6065c8b9711b44c8954738de4018a6d3"
            ]
          }
        },
        "f2a2f03b7a1b48988ba29192df29c20b": {
          "model_module": "@jupyter-widgets/base",
          "model_name": "LayoutModel",
          "state": {
            "_view_name": "LayoutView",
            "grid_template_rows": null,
            "right": null,
            "justify_content": null,
            "_view_module": "@jupyter-widgets/base",
            "overflow": null,
            "_model_module_version": "1.2.0",
            "_view_count": null,
            "flex_flow": null,
            "width": null,
            "min_width": null,
            "border": null,
            "align_items": null,
            "bottom": null,
            "_model_module": "@jupyter-widgets/base",
            "top": null,
            "grid_column": null,
            "overflow_y": null,
            "overflow_x": null,
            "grid_auto_flow": null,
            "grid_area": null,
            "grid_template_columns": null,
            "flex": null,
            "_model_name": "LayoutModel",
            "justify_items": null,
            "grid_row": null,
            "max_height": null,
            "align_content": null,
            "visibility": null,
            "align_self": null,
            "height": null,
            "min_height": null,
            "padding": null,
            "grid_auto_rows": null,
            "grid_gap": null,
            "max_width": null,
            "order": null,
            "_view_module_version": "1.2.0",
            "grid_template_areas": null,
            "object_position": null,
            "object_fit": null,
            "grid_auto_columns": null,
            "margin": null,
            "display": null,
            "left": null
          }
        },
        "19ceceadd2de4804b7ce0c1d8abc8157": {
          "model_module": "@jupyter-widgets/controls",
          "model_name": "FloatProgressModel",
          "state": {
            "_view_name": "ProgressView",
            "style": "IPY_MODEL_682fcedfc2e94fa08cef0a7f7917a053",
            "_dom_classes": [],
            "description": "",
            "_model_name": "FloatProgressModel",
            "bar_style": "info",
            "max": 1,
            "_view_module": "@jupyter-widgets/controls",
            "_model_module_version": "1.5.0",
            "value": 1,
            "_view_count": null,
            "_view_module_version": "1.5.0",
            "orientation": "horizontal",
            "min": 0,
            "description_tooltip": null,
            "_model_module": "@jupyter-widgets/controls",
            "layout": "IPY_MODEL_31929ce05d7f49debffe7bcfdd79e665"
          }
        },
        "6065c8b9711b44c8954738de4018a6d3": {
          "model_module": "@jupyter-widgets/controls",
          "model_name": "HTMLModel",
          "state": {
            "_view_name": "HTMLView",
            "style": "IPY_MODEL_f09caf9d4a9d44b7847a2cbe621e123c",
            "_dom_classes": [],
            "description": "",
            "_model_name": "HTMLModel",
            "placeholder": "​",
            "_view_module": "@jupyter-widgets/controls",
            "_model_module_version": "1.5.0",
            "value": " 9920512/? [00:20&lt;00:00, 1457509.83it/s]",
            "_view_count": null,
            "_view_module_version": "1.5.0",
            "description_tooltip": null,
            "_model_module": "@jupyter-widgets/controls",
            "layout": "IPY_MODEL_b9eb363ee0614d6eb42503c1f4b328c1"
          }
        },
        "682fcedfc2e94fa08cef0a7f7917a053": {
          "model_module": "@jupyter-widgets/controls",
          "model_name": "ProgressStyleModel",
          "state": {
            "_view_name": "StyleView",
            "_model_name": "ProgressStyleModel",
            "description_width": "initial",
            "_view_module": "@jupyter-widgets/base",
            "_model_module_version": "1.5.0",
            "_view_count": null,
            "_view_module_version": "1.2.0",
            "bar_color": null,
            "_model_module": "@jupyter-widgets/controls"
          }
        },
        "31929ce05d7f49debffe7bcfdd79e665": {
          "model_module": "@jupyter-widgets/base",
          "model_name": "LayoutModel",
          "state": {
            "_view_name": "LayoutView",
            "grid_template_rows": null,
            "right": null,
            "justify_content": null,
            "_view_module": "@jupyter-widgets/base",
            "overflow": null,
            "_model_module_version": "1.2.0",
            "_view_count": null,
            "flex_flow": null,
            "width": null,
            "min_width": null,
            "border": null,
            "align_items": null,
            "bottom": null,
            "_model_module": "@jupyter-widgets/base",
            "top": null,
            "grid_column": null,
            "overflow_y": null,
            "overflow_x": null,
            "grid_auto_flow": null,
            "grid_area": null,
            "grid_template_columns": null,
            "flex": null,
            "_model_name": "LayoutModel",
            "justify_items": null,
            "grid_row": null,
            "max_height": null,
            "align_content": null,
            "visibility": null,
            "align_self": null,
            "height": null,
            "min_height": null,
            "padding": null,
            "grid_auto_rows": null,
            "grid_gap": null,
            "max_width": null,
            "order": null,
            "_view_module_version": "1.2.0",
            "grid_template_areas": null,
            "object_position": null,
            "object_fit": null,
            "grid_auto_columns": null,
            "margin": null,
            "display": null,
            "left": null
          }
        },
        "f09caf9d4a9d44b7847a2cbe621e123c": {
          "model_module": "@jupyter-widgets/controls",
          "model_name": "DescriptionStyleModel",
          "state": {
            "_view_name": "StyleView",
            "_model_name": "DescriptionStyleModel",
            "description_width": "",
            "_view_module": "@jupyter-widgets/base",
            "_model_module_version": "1.5.0",
            "_view_count": null,
            "_view_module_version": "1.2.0",
            "_model_module": "@jupyter-widgets/controls"
          }
        },
        "b9eb363ee0614d6eb42503c1f4b328c1": {
          "model_module": "@jupyter-widgets/base",
          "model_name": "LayoutModel",
          "state": {
            "_view_name": "LayoutView",
            "grid_template_rows": null,
            "right": null,
            "justify_content": null,
            "_view_module": "@jupyter-widgets/base",
            "overflow": null,
            "_model_module_version": "1.2.0",
            "_view_count": null,
            "flex_flow": null,
            "width": null,
            "min_width": null,
            "border": null,
            "align_items": null,
            "bottom": null,
            "_model_module": "@jupyter-widgets/base",
            "top": null,
            "grid_column": null,
            "overflow_y": null,
            "overflow_x": null,
            "grid_auto_flow": null,
            "grid_area": null,
            "grid_template_columns": null,
            "flex": null,
            "_model_name": "LayoutModel",
            "justify_items": null,
            "grid_row": null,
            "max_height": null,
            "align_content": null,
            "visibility": null,
            "align_self": null,
            "height": null,
            "min_height": null,
            "padding": null,
            "grid_auto_rows": null,
            "grid_gap": null,
            "max_width": null,
            "order": null,
            "_view_module_version": "1.2.0",
            "grid_template_areas": null,
            "object_position": null,
            "object_fit": null,
            "grid_auto_columns": null,
            "margin": null,
            "display": null,
            "left": null
          }
        },
        "833ddf7701ae434ab7d587780e9208c1": {
          "model_module": "@jupyter-widgets/controls",
          "model_name": "HBoxModel",
          "state": {
            "_view_name": "HBoxView",
            "_dom_classes": [],
            "_model_name": "HBoxModel",
            "_view_module": "@jupyter-widgets/controls",
            "_model_module_version": "1.5.0",
            "_view_count": null,
            "_view_module_version": "1.5.0",
            "box_style": "",
            "layout": "IPY_MODEL_f596ed81b5ba4f9d8c1de0860913df83",
            "_model_module": "@jupyter-widgets/controls",
            "children": [
              "IPY_MODEL_ff3e94d8bf8f4066a861f7e64edbbaaf",
              "IPY_MODEL_29c65deca2484452ac91ee37580109ba"
            ]
          }
        },
        "f596ed81b5ba4f9d8c1de0860913df83": {
          "model_module": "@jupyter-widgets/base",
          "model_name": "LayoutModel",
          "state": {
            "_view_name": "LayoutView",
            "grid_template_rows": null,
            "right": null,
            "justify_content": null,
            "_view_module": "@jupyter-widgets/base",
            "overflow": null,
            "_model_module_version": "1.2.0",
            "_view_count": null,
            "flex_flow": null,
            "width": null,
            "min_width": null,
            "border": null,
            "align_items": null,
            "bottom": null,
            "_model_module": "@jupyter-widgets/base",
            "top": null,
            "grid_column": null,
            "overflow_y": null,
            "overflow_x": null,
            "grid_auto_flow": null,
            "grid_area": null,
            "grid_template_columns": null,
            "flex": null,
            "_model_name": "LayoutModel",
            "justify_items": null,
            "grid_row": null,
            "max_height": null,
            "align_content": null,
            "visibility": null,
            "align_self": null,
            "height": null,
            "min_height": null,
            "padding": null,
            "grid_auto_rows": null,
            "grid_gap": null,
            "max_width": null,
            "order": null,
            "_view_module_version": "1.2.0",
            "grid_template_areas": null,
            "object_position": null,
            "object_fit": null,
            "grid_auto_columns": null,
            "margin": null,
            "display": null,
            "left": null
          }
        },
        "ff3e94d8bf8f4066a861f7e64edbbaaf": {
          "model_module": "@jupyter-widgets/controls",
          "model_name": "FloatProgressModel",
          "state": {
            "_view_name": "ProgressView",
            "style": "IPY_MODEL_fe1f16d2f12a44c0ba97167d4fdf28cf",
            "_dom_classes": [],
            "description": "",
            "_model_name": "FloatProgressModel",
            "bar_style": "success",
            "max": 1,
            "_view_module": "@jupyter-widgets/controls",
            "_model_module_version": "1.5.0",
            "value": 1,
            "_view_count": null,
            "_view_module_version": "1.5.0",
            "orientation": "horizontal",
            "min": 0,
            "description_tooltip": null,
            "_model_module": "@jupyter-widgets/controls",
            "layout": "IPY_MODEL_502341c1ccf04c0faf78c75d969edc25"
          }
        },
        "29c65deca2484452ac91ee37580109ba": {
          "model_module": "@jupyter-widgets/controls",
          "model_name": "HTMLModel",
          "state": {
            "_view_name": "HTMLView",
            "style": "IPY_MODEL_97d345f2f4d54451a8880d8e21dad849",
            "_dom_classes": [],
            "description": "",
            "_model_name": "HTMLModel",
            "placeholder": "​",
            "_view_module": "@jupyter-widgets/controls",
            "_model_module_version": "1.5.0",
            "value": " 32768/? [00:01&lt;00:00, 32361.93it/s]",
            "_view_count": null,
            "_view_module_version": "1.5.0",
            "description_tooltip": null,
            "_model_module": "@jupyter-widgets/controls",
            "layout": "IPY_MODEL_2d526c2531fe4ac1b499fac60b691bb4"
          }
        },
        "fe1f16d2f12a44c0ba97167d4fdf28cf": {
          "model_module": "@jupyter-widgets/controls",
          "model_name": "ProgressStyleModel",
          "state": {
            "_view_name": "StyleView",
            "_model_name": "ProgressStyleModel",
            "description_width": "initial",
            "_view_module": "@jupyter-widgets/base",
            "_model_module_version": "1.5.0",
            "_view_count": null,
            "_view_module_version": "1.2.0",
            "bar_color": null,
            "_model_module": "@jupyter-widgets/controls"
          }
        },
        "502341c1ccf04c0faf78c75d969edc25": {
          "model_module": "@jupyter-widgets/base",
          "model_name": "LayoutModel",
          "state": {
            "_view_name": "LayoutView",
            "grid_template_rows": null,
            "right": null,
            "justify_content": null,
            "_view_module": "@jupyter-widgets/base",
            "overflow": null,
            "_model_module_version": "1.2.0",
            "_view_count": null,
            "flex_flow": null,
            "width": null,
            "min_width": null,
            "border": null,
            "align_items": null,
            "bottom": null,
            "_model_module": "@jupyter-widgets/base",
            "top": null,
            "grid_column": null,
            "overflow_y": null,
            "overflow_x": null,
            "grid_auto_flow": null,
            "grid_area": null,
            "grid_template_columns": null,
            "flex": null,
            "_model_name": "LayoutModel",
            "justify_items": null,
            "grid_row": null,
            "max_height": null,
            "align_content": null,
            "visibility": null,
            "align_self": null,
            "height": null,
            "min_height": null,
            "padding": null,
            "grid_auto_rows": null,
            "grid_gap": null,
            "max_width": null,
            "order": null,
            "_view_module_version": "1.2.0",
            "grid_template_areas": null,
            "object_position": null,
            "object_fit": null,
            "grid_auto_columns": null,
            "margin": null,
            "display": null,
            "left": null
          }
        },
        "97d345f2f4d54451a8880d8e21dad849": {
          "model_module": "@jupyter-widgets/controls",
          "model_name": "DescriptionStyleModel",
          "state": {
            "_view_name": "StyleView",
            "_model_name": "DescriptionStyleModel",
            "description_width": "",
            "_view_module": "@jupyter-widgets/base",
            "_model_module_version": "1.5.0",
            "_view_count": null,
            "_view_module_version": "1.2.0",
            "_model_module": "@jupyter-widgets/controls"
          }
        },
        "2d526c2531fe4ac1b499fac60b691bb4": {
          "model_module": "@jupyter-widgets/base",
          "model_name": "LayoutModel",
          "state": {
            "_view_name": "LayoutView",
            "grid_template_rows": null,
            "right": null,
            "justify_content": null,
            "_view_module": "@jupyter-widgets/base",
            "overflow": null,
            "_model_module_version": "1.2.0",
            "_view_count": null,
            "flex_flow": null,
            "width": null,
            "min_width": null,
            "border": null,
            "align_items": null,
            "bottom": null,
            "_model_module": "@jupyter-widgets/base",
            "top": null,
            "grid_column": null,
            "overflow_y": null,
            "overflow_x": null,
            "grid_auto_flow": null,
            "grid_area": null,
            "grid_template_columns": null,
            "flex": null,
            "_model_name": "LayoutModel",
            "justify_items": null,
            "grid_row": null,
            "max_height": null,
            "align_content": null,
            "visibility": null,
            "align_self": null,
            "height": null,
            "min_height": null,
            "padding": null,
            "grid_auto_rows": null,
            "grid_gap": null,
            "max_width": null,
            "order": null,
            "_view_module_version": "1.2.0",
            "grid_template_areas": null,
            "object_position": null,
            "object_fit": null,
            "grid_auto_columns": null,
            "margin": null,
            "display": null,
            "left": null
          }
        },
        "297d2e9c579b4c3384d25a7a68f2d6ae": {
          "model_module": "@jupyter-widgets/controls",
          "model_name": "HBoxModel",
          "state": {
            "_view_name": "HBoxView",
            "_dom_classes": [],
            "_model_name": "HBoxModel",
            "_view_module": "@jupyter-widgets/controls",
            "_model_module_version": "1.5.0",
            "_view_count": null,
            "_view_module_version": "1.5.0",
            "box_style": "",
            "layout": "IPY_MODEL_b0c1beee0db148a7bce60f651582cd1b",
            "_model_module": "@jupyter-widgets/controls",
            "children": [
              "IPY_MODEL_61818ea956dc4ccf8e24c7b9f539be77",
              "IPY_MODEL_6db87db92f6f4effacf21f094a262fd1"
            ]
          }
        },
        "b0c1beee0db148a7bce60f651582cd1b": {
          "model_module": "@jupyter-widgets/base",
          "model_name": "LayoutModel",
          "state": {
            "_view_name": "LayoutView",
            "grid_template_rows": null,
            "right": null,
            "justify_content": null,
            "_view_module": "@jupyter-widgets/base",
            "overflow": null,
            "_model_module_version": "1.2.0",
            "_view_count": null,
            "flex_flow": null,
            "width": null,
            "min_width": null,
            "border": null,
            "align_items": null,
            "bottom": null,
            "_model_module": "@jupyter-widgets/base",
            "top": null,
            "grid_column": null,
            "overflow_y": null,
            "overflow_x": null,
            "grid_auto_flow": null,
            "grid_area": null,
            "grid_template_columns": null,
            "flex": null,
            "_model_name": "LayoutModel",
            "justify_items": null,
            "grid_row": null,
            "max_height": null,
            "align_content": null,
            "visibility": null,
            "align_self": null,
            "height": null,
            "min_height": null,
            "padding": null,
            "grid_auto_rows": null,
            "grid_gap": null,
            "max_width": null,
            "order": null,
            "_view_module_version": "1.2.0",
            "grid_template_areas": null,
            "object_position": null,
            "object_fit": null,
            "grid_auto_columns": null,
            "margin": null,
            "display": null,
            "left": null
          }
        },
        "61818ea956dc4ccf8e24c7b9f539be77": {
          "model_module": "@jupyter-widgets/controls",
          "model_name": "FloatProgressModel",
          "state": {
            "_view_name": "ProgressView",
            "style": "IPY_MODEL_fee31300e5f044579e364f5f9bab8b4f",
            "_dom_classes": [],
            "description": "",
            "_model_name": "FloatProgressModel",
            "bar_style": "success",
            "max": 1,
            "_view_module": "@jupyter-widgets/controls",
            "_model_module_version": "1.5.0",
            "value": 1,
            "_view_count": null,
            "_view_module_version": "1.5.0",
            "orientation": "horizontal",
            "min": 0,
            "description_tooltip": null,
            "_model_module": "@jupyter-widgets/controls",
            "layout": "IPY_MODEL_22fa35414d294e888c5172b8147b2ce5"
          }
        },
        "6db87db92f6f4effacf21f094a262fd1": {
          "model_module": "@jupyter-widgets/controls",
          "model_name": "HTMLModel",
          "state": {
            "_view_name": "HTMLView",
            "style": "IPY_MODEL_bb73418a96e0406195c0772b529696a2",
            "_dom_classes": [],
            "description": "",
            "_model_name": "HTMLModel",
            "placeholder": "​",
            "_view_module": "@jupyter-widgets/controls",
            "_model_module_version": "1.5.0",
            "value": " 1654784/? [00:00&lt;00:00, 2238565.27it/s]",
            "_view_count": null,
            "_view_module_version": "1.5.0",
            "description_tooltip": null,
            "_model_module": "@jupyter-widgets/controls",
            "layout": "IPY_MODEL_7d58684cc75a44f8ba0a258ba1e34b03"
          }
        },
        "fee31300e5f044579e364f5f9bab8b4f": {
          "model_module": "@jupyter-widgets/controls",
          "model_name": "ProgressStyleModel",
          "state": {
            "_view_name": "StyleView",
            "_model_name": "ProgressStyleModel",
            "description_width": "initial",
            "_view_module": "@jupyter-widgets/base",
            "_model_module_version": "1.5.0",
            "_view_count": null,
            "_view_module_version": "1.2.0",
            "bar_color": null,
            "_model_module": "@jupyter-widgets/controls"
          }
        },
        "22fa35414d294e888c5172b8147b2ce5": {
          "model_module": "@jupyter-widgets/base",
          "model_name": "LayoutModel",
          "state": {
            "_view_name": "LayoutView",
            "grid_template_rows": null,
            "right": null,
            "justify_content": null,
            "_view_module": "@jupyter-widgets/base",
            "overflow": null,
            "_model_module_version": "1.2.0",
            "_view_count": null,
            "flex_flow": null,
            "width": null,
            "min_width": null,
            "border": null,
            "align_items": null,
            "bottom": null,
            "_model_module": "@jupyter-widgets/base",
            "top": null,
            "grid_column": null,
            "overflow_y": null,
            "overflow_x": null,
            "grid_auto_flow": null,
            "grid_area": null,
            "grid_template_columns": null,
            "flex": null,
            "_model_name": "LayoutModel",
            "justify_items": null,
            "grid_row": null,
            "max_height": null,
            "align_content": null,
            "visibility": null,
            "align_self": null,
            "height": null,
            "min_height": null,
            "padding": null,
            "grid_auto_rows": null,
            "grid_gap": null,
            "max_width": null,
            "order": null,
            "_view_module_version": "1.2.0",
            "grid_template_areas": null,
            "object_position": null,
            "object_fit": null,
            "grid_auto_columns": null,
            "margin": null,
            "display": null,
            "left": null
          }
        },
        "bb73418a96e0406195c0772b529696a2": {
          "model_module": "@jupyter-widgets/controls",
          "model_name": "DescriptionStyleModel",
          "state": {
            "_view_name": "StyleView",
            "_model_name": "DescriptionStyleModel",
            "description_width": "",
            "_view_module": "@jupyter-widgets/base",
            "_model_module_version": "1.5.0",
            "_view_count": null,
            "_view_module_version": "1.2.0",
            "_model_module": "@jupyter-widgets/controls"
          }
        },
        "7d58684cc75a44f8ba0a258ba1e34b03": {
          "model_module": "@jupyter-widgets/base",
          "model_name": "LayoutModel",
          "state": {
            "_view_name": "LayoutView",
            "grid_template_rows": null,
            "right": null,
            "justify_content": null,
            "_view_module": "@jupyter-widgets/base",
            "overflow": null,
            "_model_module_version": "1.2.0",
            "_view_count": null,
            "flex_flow": null,
            "width": null,
            "min_width": null,
            "border": null,
            "align_items": null,
            "bottom": null,
            "_model_module": "@jupyter-widgets/base",
            "top": null,
            "grid_column": null,
            "overflow_y": null,
            "overflow_x": null,
            "grid_auto_flow": null,
            "grid_area": null,
            "grid_template_columns": null,
            "flex": null,
            "_model_name": "LayoutModel",
            "justify_items": null,
            "grid_row": null,
            "max_height": null,
            "align_content": null,
            "visibility": null,
            "align_self": null,
            "height": null,
            "min_height": null,
            "padding": null,
            "grid_auto_rows": null,
            "grid_gap": null,
            "max_width": null,
            "order": null,
            "_view_module_version": "1.2.0",
            "grid_template_areas": null,
            "object_position": null,
            "object_fit": null,
            "grid_auto_columns": null,
            "margin": null,
            "display": null,
            "left": null
          }
        },
        "86d3b1430c9545279ec16fab617a9374": {
          "model_module": "@jupyter-widgets/controls",
          "model_name": "HBoxModel",
          "state": {
            "_view_name": "HBoxView",
            "_dom_classes": [],
            "_model_name": "HBoxModel",
            "_view_module": "@jupyter-widgets/controls",
            "_model_module_version": "1.5.0",
            "_view_count": null,
            "_view_module_version": "1.5.0",
            "box_style": "",
            "layout": "IPY_MODEL_13730068498245e29b40d136aadd4ec1",
            "_model_module": "@jupyter-widgets/controls",
            "children": [
              "IPY_MODEL_e8c043c332fc4853ab04ede65faf22e2",
              "IPY_MODEL_31481750b74d46989a6c19975e09f495"
            ]
          }
        },
        "13730068498245e29b40d136aadd4ec1": {
          "model_module": "@jupyter-widgets/base",
          "model_name": "LayoutModel",
          "state": {
            "_view_name": "LayoutView",
            "grid_template_rows": null,
            "right": null,
            "justify_content": null,
            "_view_module": "@jupyter-widgets/base",
            "overflow": null,
            "_model_module_version": "1.2.0",
            "_view_count": null,
            "flex_flow": null,
            "width": null,
            "min_width": null,
            "border": null,
            "align_items": null,
            "bottom": null,
            "_model_module": "@jupyter-widgets/base",
            "top": null,
            "grid_column": null,
            "overflow_y": null,
            "overflow_x": null,
            "grid_auto_flow": null,
            "grid_area": null,
            "grid_template_columns": null,
            "flex": null,
            "_model_name": "LayoutModel",
            "justify_items": null,
            "grid_row": null,
            "max_height": null,
            "align_content": null,
            "visibility": null,
            "align_self": null,
            "height": null,
            "min_height": null,
            "padding": null,
            "grid_auto_rows": null,
            "grid_gap": null,
            "max_width": null,
            "order": null,
            "_view_module_version": "1.2.0",
            "grid_template_areas": null,
            "object_position": null,
            "object_fit": null,
            "grid_auto_columns": null,
            "margin": null,
            "display": null,
            "left": null
          }
        },
        "e8c043c332fc4853ab04ede65faf22e2": {
          "model_module": "@jupyter-widgets/controls",
          "model_name": "FloatProgressModel",
          "state": {
            "_view_name": "ProgressView",
            "style": "IPY_MODEL_df59eadb7881455991eefcb1567a3ab9",
            "_dom_classes": [],
            "description": "  0%",
            "_model_name": "FloatProgressModel",
            "bar_style": "info",
            "max": 1,
            "_view_module": "@jupyter-widgets/controls",
            "_model_module_version": "1.5.0",
            "value": 0,
            "_view_count": null,
            "_view_module_version": "1.5.0",
            "orientation": "horizontal",
            "min": 0,
            "description_tooltip": null,
            "_model_module": "@jupyter-widgets/controls",
            "layout": "IPY_MODEL_f6df461d83c5480b954c32283fc21d69"
          }
        },
        "31481750b74d46989a6c19975e09f495": {
          "model_module": "@jupyter-widgets/controls",
          "model_name": "HTMLModel",
          "state": {
            "_view_name": "HTMLView",
            "style": "IPY_MODEL_270144b5563849208d1e670ea175f7c3",
            "_dom_classes": [],
            "description": "",
            "_model_name": "HTMLModel",
            "placeholder": "​",
            "_view_module": "@jupyter-widgets/controls",
            "_model_module_version": "1.5.0",
            "value": " 0/4542 [00:00&lt;?, ?it/s]",
            "_view_count": null,
            "_view_module_version": "1.5.0",
            "description_tooltip": null,
            "_model_module": "@jupyter-widgets/controls",
            "layout": "IPY_MODEL_06448456001647969281942604482625"
          }
        },
        "df59eadb7881455991eefcb1567a3ab9": {
          "model_module": "@jupyter-widgets/controls",
          "model_name": "ProgressStyleModel",
          "state": {
            "_view_name": "StyleView",
            "_model_name": "ProgressStyleModel",
            "description_width": "initial",
            "_view_module": "@jupyter-widgets/base",
            "_model_module_version": "1.5.0",
            "_view_count": null,
            "_view_module_version": "1.2.0",
            "bar_color": null,
            "_model_module": "@jupyter-widgets/controls"
          }
        },
        "f6df461d83c5480b954c32283fc21d69": {
          "model_module": "@jupyter-widgets/base",
          "model_name": "LayoutModel",
          "state": {
            "_view_name": "LayoutView",
            "grid_template_rows": null,
            "right": null,
            "justify_content": null,
            "_view_module": "@jupyter-widgets/base",
            "overflow": null,
            "_model_module_version": "1.2.0",
            "_view_count": null,
            "flex_flow": null,
            "width": null,
            "min_width": null,
            "border": null,
            "align_items": null,
            "bottom": null,
            "_model_module": "@jupyter-widgets/base",
            "top": null,
            "grid_column": null,
            "overflow_y": null,
            "overflow_x": null,
            "grid_auto_flow": null,
            "grid_area": null,
            "grid_template_columns": null,
            "flex": null,
            "_model_name": "LayoutModel",
            "justify_items": null,
            "grid_row": null,
            "max_height": null,
            "align_content": null,
            "visibility": null,
            "align_self": null,
            "height": null,
            "min_height": null,
            "padding": null,
            "grid_auto_rows": null,
            "grid_gap": null,
            "max_width": null,
            "order": null,
            "_view_module_version": "1.2.0",
            "grid_template_areas": null,
            "object_position": null,
            "object_fit": null,
            "grid_auto_columns": null,
            "margin": null,
            "display": null,
            "left": null
          }
        },
        "270144b5563849208d1e670ea175f7c3": {
          "model_module": "@jupyter-widgets/controls",
          "model_name": "DescriptionStyleModel",
          "state": {
            "_view_name": "StyleView",
            "_model_name": "DescriptionStyleModel",
            "description_width": "",
            "_view_module": "@jupyter-widgets/base",
            "_model_module_version": "1.5.0",
            "_view_count": null,
            "_view_module_version": "1.2.0",
            "_model_module": "@jupyter-widgets/controls"
          }
        },
        "06448456001647969281942604482625": {
          "model_module": "@jupyter-widgets/base",
          "model_name": "LayoutModel",
          "state": {
            "_view_name": "LayoutView",
            "grid_template_rows": null,
            "right": null,
            "justify_content": null,
            "_view_module": "@jupyter-widgets/base",
            "overflow": null,
            "_model_module_version": "1.2.0",
            "_view_count": null,
            "flex_flow": null,
            "width": null,
            "min_width": null,
            "border": null,
            "align_items": null,
            "bottom": null,
            "_model_module": "@jupyter-widgets/base",
            "top": null,
            "grid_column": null,
            "overflow_y": null,
            "overflow_x": null,
            "grid_auto_flow": null,
            "grid_area": null,
            "grid_template_columns": null,
            "flex": null,
            "_model_name": "LayoutModel",
            "justify_items": null,
            "grid_row": null,
            "max_height": null,
            "align_content": null,
            "visibility": null,
            "align_self": null,
            "height": null,
            "min_height": null,
            "padding": null,
            "grid_auto_rows": null,
            "grid_gap": null,
            "max_width": null,
            "order": null,
            "_view_module_version": "1.2.0",
            "grid_template_areas": null,
            "object_position": null,
            "object_fit": null,
            "grid_auto_columns": null,
            "margin": null,
            "display": null,
            "left": null
          }
        },
        "0149fe4d5ea34a75b61652d3af0b6f03": {
          "model_module": "@jupyter-widgets/controls",
          "model_name": "HBoxModel",
          "state": {
            "_view_name": "HBoxView",
            "_dom_classes": [],
            "_model_name": "HBoxModel",
            "_view_module": "@jupyter-widgets/controls",
            "_model_module_version": "1.5.0",
            "_view_count": null,
            "_view_module_version": "1.5.0",
            "box_style": "",
            "layout": "IPY_MODEL_d417b7ab1fb943eba42e838d1284e110",
            "_model_module": "@jupyter-widgets/controls",
            "children": [
              "IPY_MODEL_8f9b610e3a6f4e499abacfb4d7bc0cde",
              "IPY_MODEL_63bc64af3592448c874b8ced3de2a541"
            ]
          }
        },
        "d417b7ab1fb943eba42e838d1284e110": {
          "model_module": "@jupyter-widgets/base",
          "model_name": "LayoutModel",
          "state": {
            "_view_name": "LayoutView",
            "grid_template_rows": null,
            "right": null,
            "justify_content": null,
            "_view_module": "@jupyter-widgets/base",
            "overflow": null,
            "_model_module_version": "1.2.0",
            "_view_count": null,
            "flex_flow": null,
            "width": null,
            "min_width": null,
            "border": null,
            "align_items": null,
            "bottom": null,
            "_model_module": "@jupyter-widgets/base",
            "top": null,
            "grid_column": null,
            "overflow_y": null,
            "overflow_x": null,
            "grid_auto_flow": null,
            "grid_area": null,
            "grid_template_columns": null,
            "flex": null,
            "_model_name": "LayoutModel",
            "justify_items": null,
            "grid_row": null,
            "max_height": null,
            "align_content": null,
            "visibility": null,
            "align_self": null,
            "height": null,
            "min_height": null,
            "padding": null,
            "grid_auto_rows": null,
            "grid_gap": null,
            "max_width": null,
            "order": null,
            "_view_module_version": "1.2.0",
            "grid_template_areas": null,
            "object_position": null,
            "object_fit": null,
            "grid_auto_columns": null,
            "margin": null,
            "display": null,
            "left": null
          }
        },
        "8f9b610e3a6f4e499abacfb4d7bc0cde": {
          "model_module": "@jupyter-widgets/controls",
          "model_name": "FloatProgressModel",
          "state": {
            "_view_name": "ProgressView",
            "style": "IPY_MODEL_43aa36fb25f44aa1811899256e3163a6",
            "_dom_classes": [],
            "description": "",
            "_model_name": "FloatProgressModel",
            "bar_style": "success",
            "max": 1,
            "_view_module": "@jupyter-widgets/controls",
            "_model_module_version": "1.5.0",
            "value": 1,
            "_view_count": null,
            "_view_module_version": "1.5.0",
            "orientation": "horizontal",
            "min": 0,
            "description_tooltip": null,
            "_model_module": "@jupyter-widgets/controls",
            "layout": "IPY_MODEL_8854d4cf7808418a94bddab7590b0849"
          }
        },
        "63bc64af3592448c874b8ced3de2a541": {
          "model_module": "@jupyter-widgets/controls",
          "model_name": "HTMLModel",
          "state": {
            "_view_name": "HTMLView",
            "style": "IPY_MODEL_4d41ba1c3bee491886ebafaa93e4c524",
            "_dom_classes": [],
            "description": "",
            "_model_name": "HTMLModel",
            "placeholder": "​",
            "_view_module": "@jupyter-widgets/controls",
            "_model_module_version": "1.5.0",
            "value": " 9920512/? [00:01&lt;00:00, 7056620.18it/s]",
            "_view_count": null,
            "_view_module_version": "1.5.0",
            "description_tooltip": null,
            "_model_module": "@jupyter-widgets/controls",
            "layout": "IPY_MODEL_ca8813db169641b882d5a2713e3de1c4"
          }
        },
        "43aa36fb25f44aa1811899256e3163a6": {
          "model_module": "@jupyter-widgets/controls",
          "model_name": "ProgressStyleModel",
          "state": {
            "_view_name": "StyleView",
            "_model_name": "ProgressStyleModel",
            "description_width": "initial",
            "_view_module": "@jupyter-widgets/base",
            "_model_module_version": "1.5.0",
            "_view_count": null,
            "_view_module_version": "1.2.0",
            "bar_color": null,
            "_model_module": "@jupyter-widgets/controls"
          }
        },
        "8854d4cf7808418a94bddab7590b0849": {
          "model_module": "@jupyter-widgets/base",
          "model_name": "LayoutModel",
          "state": {
            "_view_name": "LayoutView",
            "grid_template_rows": null,
            "right": null,
            "justify_content": null,
            "_view_module": "@jupyter-widgets/base",
            "overflow": null,
            "_model_module_version": "1.2.0",
            "_view_count": null,
            "flex_flow": null,
            "width": null,
            "min_width": null,
            "border": null,
            "align_items": null,
            "bottom": null,
            "_model_module": "@jupyter-widgets/base",
            "top": null,
            "grid_column": null,
            "overflow_y": null,
            "overflow_x": null,
            "grid_auto_flow": null,
            "grid_area": null,
            "grid_template_columns": null,
            "flex": null,
            "_model_name": "LayoutModel",
            "justify_items": null,
            "grid_row": null,
            "max_height": null,
            "align_content": null,
            "visibility": null,
            "align_self": null,
            "height": null,
            "min_height": null,
            "padding": null,
            "grid_auto_rows": null,
            "grid_gap": null,
            "max_width": null,
            "order": null,
            "_view_module_version": "1.2.0",
            "grid_template_areas": null,
            "object_position": null,
            "object_fit": null,
            "grid_auto_columns": null,
            "margin": null,
            "display": null,
            "left": null
          }
        },
        "4d41ba1c3bee491886ebafaa93e4c524": {
          "model_module": "@jupyter-widgets/controls",
          "model_name": "DescriptionStyleModel",
          "state": {
            "_view_name": "StyleView",
            "_model_name": "DescriptionStyleModel",
            "description_width": "",
            "_view_module": "@jupyter-widgets/base",
            "_model_module_version": "1.5.0",
            "_view_count": null,
            "_view_module_version": "1.2.0",
            "_model_module": "@jupyter-widgets/controls"
          }
        },
        "ca8813db169641b882d5a2713e3de1c4": {
          "model_module": "@jupyter-widgets/base",
          "model_name": "LayoutModel",
          "state": {
            "_view_name": "LayoutView",
            "grid_template_rows": null,
            "right": null,
            "justify_content": null,
            "_view_module": "@jupyter-widgets/base",
            "overflow": null,
            "_model_module_version": "1.2.0",
            "_view_count": null,
            "flex_flow": null,
            "width": null,
            "min_width": null,
            "border": null,
            "align_items": null,
            "bottom": null,
            "_model_module": "@jupyter-widgets/base",
            "top": null,
            "grid_column": null,
            "overflow_y": null,
            "overflow_x": null,
            "grid_auto_flow": null,
            "grid_area": null,
            "grid_template_columns": null,
            "flex": null,
            "_model_name": "LayoutModel",
            "justify_items": null,
            "grid_row": null,
            "max_height": null,
            "align_content": null,
            "visibility": null,
            "align_self": null,
            "height": null,
            "min_height": null,
            "padding": null,
            "grid_auto_rows": null,
            "grid_gap": null,
            "max_width": null,
            "order": null,
            "_view_module_version": "1.2.0",
            "grid_template_areas": null,
            "object_position": null,
            "object_fit": null,
            "grid_auto_columns": null,
            "margin": null,
            "display": null,
            "left": null
          }
        },
        "399edc4688fe4148ab0baffde81cbf46": {
          "model_module": "@jupyter-widgets/controls",
          "model_name": "HBoxModel",
          "state": {
            "_view_name": "HBoxView",
            "_dom_classes": [],
            "_model_name": "HBoxModel",
            "_view_module": "@jupyter-widgets/controls",
            "_model_module_version": "1.5.0",
            "_view_count": null,
            "_view_module_version": "1.5.0",
            "box_style": "",
            "layout": "IPY_MODEL_974df520fa804660a697e883e6e67542",
            "_model_module": "@jupyter-widgets/controls",
            "children": [
              "IPY_MODEL_b345f94419f84c0c952ced5fdf449612",
              "IPY_MODEL_2dcc974e447f42c49961f9f9ac92fccc"
            ]
          }
        },
        "974df520fa804660a697e883e6e67542": {
          "model_module": "@jupyter-widgets/base",
          "model_name": "LayoutModel",
          "state": {
            "_view_name": "LayoutView",
            "grid_template_rows": null,
            "right": null,
            "justify_content": null,
            "_view_module": "@jupyter-widgets/base",
            "overflow": null,
            "_model_module_version": "1.2.0",
            "_view_count": null,
            "flex_flow": null,
            "width": null,
            "min_width": null,
            "border": null,
            "align_items": null,
            "bottom": null,
            "_model_module": "@jupyter-widgets/base",
            "top": null,
            "grid_column": null,
            "overflow_y": null,
            "overflow_x": null,
            "grid_auto_flow": null,
            "grid_area": null,
            "grid_template_columns": null,
            "flex": null,
            "_model_name": "LayoutModel",
            "justify_items": null,
            "grid_row": null,
            "max_height": null,
            "align_content": null,
            "visibility": null,
            "align_self": null,
            "height": null,
            "min_height": null,
            "padding": null,
            "grid_auto_rows": null,
            "grid_gap": null,
            "max_width": null,
            "order": null,
            "_view_module_version": "1.2.0",
            "grid_template_areas": null,
            "object_position": null,
            "object_fit": null,
            "grid_auto_columns": null,
            "margin": null,
            "display": null,
            "left": null
          }
        },
        "b345f94419f84c0c952ced5fdf449612": {
          "model_module": "@jupyter-widgets/controls",
          "model_name": "FloatProgressModel",
          "state": {
            "_view_name": "ProgressView",
            "style": "IPY_MODEL_13f287893c774f3dbfb2a577347be66d",
            "_dom_classes": [],
            "description": "  0%",
            "_model_name": "FloatProgressModel",
            "bar_style": "info",
            "max": 1,
            "_view_module": "@jupyter-widgets/controls",
            "_model_module_version": "1.5.0",
            "value": 0,
            "_view_count": null,
            "_view_module_version": "1.5.0",
            "orientation": "horizontal",
            "min": 0,
            "description_tooltip": null,
            "_model_module": "@jupyter-widgets/controls",
            "layout": "IPY_MODEL_a49b02bb5f5145999c9028ca6ac547a3"
          }
        },
        "2dcc974e447f42c49961f9f9ac92fccc": {
          "model_module": "@jupyter-widgets/controls",
          "model_name": "HTMLModel",
          "state": {
            "_view_name": "HTMLView",
            "style": "IPY_MODEL_38fd05c19eb14fe6bb93e6903692ddaa",
            "_dom_classes": [],
            "description": "",
            "_model_name": "HTMLModel",
            "placeholder": "​",
            "_view_module": "@jupyter-widgets/controls",
            "_model_module_version": "1.5.0",
            "value": " 0/28881 [00:00&lt;?, ?it/s]",
            "_view_count": null,
            "_view_module_version": "1.5.0",
            "description_tooltip": null,
            "_model_module": "@jupyter-widgets/controls",
            "layout": "IPY_MODEL_42181d79e9a349e085463376ce854c91"
          }
        },
        "13f287893c774f3dbfb2a577347be66d": {
          "model_module": "@jupyter-widgets/controls",
          "model_name": "ProgressStyleModel",
          "state": {
            "_view_name": "StyleView",
            "_model_name": "ProgressStyleModel",
            "description_width": "initial",
            "_view_module": "@jupyter-widgets/base",
            "_model_module_version": "1.5.0",
            "_view_count": null,
            "_view_module_version": "1.2.0",
            "bar_color": null,
            "_model_module": "@jupyter-widgets/controls"
          }
        },
        "a49b02bb5f5145999c9028ca6ac547a3": {
          "model_module": "@jupyter-widgets/base",
          "model_name": "LayoutModel",
          "state": {
            "_view_name": "LayoutView",
            "grid_template_rows": null,
            "right": null,
            "justify_content": null,
            "_view_module": "@jupyter-widgets/base",
            "overflow": null,
            "_model_module_version": "1.2.0",
            "_view_count": null,
            "flex_flow": null,
            "width": null,
            "min_width": null,
            "border": null,
            "align_items": null,
            "bottom": null,
            "_model_module": "@jupyter-widgets/base",
            "top": null,
            "grid_column": null,
            "overflow_y": null,
            "overflow_x": null,
            "grid_auto_flow": null,
            "grid_area": null,
            "grid_template_columns": null,
            "flex": null,
            "_model_name": "LayoutModel",
            "justify_items": null,
            "grid_row": null,
            "max_height": null,
            "align_content": null,
            "visibility": null,
            "align_self": null,
            "height": null,
            "min_height": null,
            "padding": null,
            "grid_auto_rows": null,
            "grid_gap": null,
            "max_width": null,
            "order": null,
            "_view_module_version": "1.2.0",
            "grid_template_areas": null,
            "object_position": null,
            "object_fit": null,
            "grid_auto_columns": null,
            "margin": null,
            "display": null,
            "left": null
          }
        },
        "38fd05c19eb14fe6bb93e6903692ddaa": {
          "model_module": "@jupyter-widgets/controls",
          "model_name": "DescriptionStyleModel",
          "state": {
            "_view_name": "StyleView",
            "_model_name": "DescriptionStyleModel",
            "description_width": "",
            "_view_module": "@jupyter-widgets/base",
            "_model_module_version": "1.5.0",
            "_view_count": null,
            "_view_module_version": "1.2.0",
            "_model_module": "@jupyter-widgets/controls"
          }
        },
        "42181d79e9a349e085463376ce854c91": {
          "model_module": "@jupyter-widgets/base",
          "model_name": "LayoutModel",
          "state": {
            "_view_name": "LayoutView",
            "grid_template_rows": null,
            "right": null,
            "justify_content": null,
            "_view_module": "@jupyter-widgets/base",
            "overflow": null,
            "_model_module_version": "1.2.0",
            "_view_count": null,
            "flex_flow": null,
            "width": null,
            "min_width": null,
            "border": null,
            "align_items": null,
            "bottom": null,
            "_model_module": "@jupyter-widgets/base",
            "top": null,
            "grid_column": null,
            "overflow_y": null,
            "overflow_x": null,
            "grid_auto_flow": null,
            "grid_area": null,
            "grid_template_columns": null,
            "flex": null,
            "_model_name": "LayoutModel",
            "justify_items": null,
            "grid_row": null,
            "max_height": null,
            "align_content": null,
            "visibility": null,
            "align_self": null,
            "height": null,
            "min_height": null,
            "padding": null,
            "grid_auto_rows": null,
            "grid_gap": null,
            "max_width": null,
            "order": null,
            "_view_module_version": "1.2.0",
            "grid_template_areas": null,
            "object_position": null,
            "object_fit": null,
            "grid_auto_columns": null,
            "margin": null,
            "display": null,
            "left": null
          }
        },
        "5253ff5016794e7781314c1c0f101b29": {
          "model_module": "@jupyter-widgets/controls",
          "model_name": "HBoxModel",
          "state": {
            "_view_name": "HBoxView",
            "_dom_classes": [],
            "_model_name": "HBoxModel",
            "_view_module": "@jupyter-widgets/controls",
            "_model_module_version": "1.5.0",
            "_view_count": null,
            "_view_module_version": "1.5.0",
            "box_style": "",
            "layout": "IPY_MODEL_d0d3f5ff8f0c49bc8d872a17e83c5b66",
            "_model_module": "@jupyter-widgets/controls",
            "children": [
              "IPY_MODEL_42083577432e410885dbd999561fa8b7",
              "IPY_MODEL_b10cbad78e4b40a48398689bc6286618"
            ]
          }
        },
        "d0d3f5ff8f0c49bc8d872a17e83c5b66": {
          "model_module": "@jupyter-widgets/base",
          "model_name": "LayoutModel",
          "state": {
            "_view_name": "LayoutView",
            "grid_template_rows": null,
            "right": null,
            "justify_content": null,
            "_view_module": "@jupyter-widgets/base",
            "overflow": null,
            "_model_module_version": "1.2.0",
            "_view_count": null,
            "flex_flow": null,
            "width": null,
            "min_width": null,
            "border": null,
            "align_items": null,
            "bottom": null,
            "_model_module": "@jupyter-widgets/base",
            "top": null,
            "grid_column": null,
            "overflow_y": null,
            "overflow_x": null,
            "grid_auto_flow": null,
            "grid_area": null,
            "grid_template_columns": null,
            "flex": null,
            "_model_name": "LayoutModel",
            "justify_items": null,
            "grid_row": null,
            "max_height": null,
            "align_content": null,
            "visibility": null,
            "align_self": null,
            "height": null,
            "min_height": null,
            "padding": null,
            "grid_auto_rows": null,
            "grid_gap": null,
            "max_width": null,
            "order": null,
            "_view_module_version": "1.2.0",
            "grid_template_areas": null,
            "object_position": null,
            "object_fit": null,
            "grid_auto_columns": null,
            "margin": null,
            "display": null,
            "left": null
          }
        },
        "42083577432e410885dbd999561fa8b7": {
          "model_module": "@jupyter-widgets/controls",
          "model_name": "FloatProgressModel",
          "state": {
            "_view_name": "ProgressView",
            "style": "IPY_MODEL_57487e76a4fd409da64dda55f09e3e18",
            "_dom_classes": [],
            "description": "",
            "_model_name": "FloatProgressModel",
            "bar_style": "info",
            "max": 1,
            "_view_module": "@jupyter-widgets/controls",
            "_model_module_version": "1.5.0",
            "value": 1,
            "_view_count": null,
            "_view_module_version": "1.5.0",
            "orientation": "horizontal",
            "min": 0,
            "description_tooltip": null,
            "_model_module": "@jupyter-widgets/controls",
            "layout": "IPY_MODEL_ab4a749ac2544c6689ac14ca5d9452ee"
          }
        },
        "b10cbad78e4b40a48398689bc6286618": {
          "model_module": "@jupyter-widgets/controls",
          "model_name": "HTMLModel",
          "state": {
            "_view_name": "HTMLView",
            "style": "IPY_MODEL_d703d982a0764deeaf64b082b019ae89",
            "_dom_classes": [],
            "description": "",
            "_model_name": "HTMLModel",
            "placeholder": "​",
            "_view_module": "@jupyter-widgets/controls",
            "_model_module_version": "1.5.0",
            "value": " 1654784/? [00:12&lt;00:00, 288671.03it/s]",
            "_view_count": null,
            "_view_module_version": "1.5.0",
            "description_tooltip": null,
            "_model_module": "@jupyter-widgets/controls",
            "layout": "IPY_MODEL_77654b7d980c47beb8e62251c47b6931"
          }
        },
        "57487e76a4fd409da64dda55f09e3e18": {
          "model_module": "@jupyter-widgets/controls",
          "model_name": "ProgressStyleModel",
          "state": {
            "_view_name": "StyleView",
            "_model_name": "ProgressStyleModel",
            "description_width": "initial",
            "_view_module": "@jupyter-widgets/base",
            "_model_module_version": "1.5.0",
            "_view_count": null,
            "_view_module_version": "1.2.0",
            "bar_color": null,
            "_model_module": "@jupyter-widgets/controls"
          }
        },
        "ab4a749ac2544c6689ac14ca5d9452ee": {
          "model_module": "@jupyter-widgets/base",
          "model_name": "LayoutModel",
          "state": {
            "_view_name": "LayoutView",
            "grid_template_rows": null,
            "right": null,
            "justify_content": null,
            "_view_module": "@jupyter-widgets/base",
            "overflow": null,
            "_model_module_version": "1.2.0",
            "_view_count": null,
            "flex_flow": null,
            "width": null,
            "min_width": null,
            "border": null,
            "align_items": null,
            "bottom": null,
            "_model_module": "@jupyter-widgets/base",
            "top": null,
            "grid_column": null,
            "overflow_y": null,
            "overflow_x": null,
            "grid_auto_flow": null,
            "grid_area": null,
            "grid_template_columns": null,
            "flex": null,
            "_model_name": "LayoutModel",
            "justify_items": null,
            "grid_row": null,
            "max_height": null,
            "align_content": null,
            "visibility": null,
            "align_self": null,
            "height": null,
            "min_height": null,
            "padding": null,
            "grid_auto_rows": null,
            "grid_gap": null,
            "max_width": null,
            "order": null,
            "_view_module_version": "1.2.0",
            "grid_template_areas": null,
            "object_position": null,
            "object_fit": null,
            "grid_auto_columns": null,
            "margin": null,
            "display": null,
            "left": null
          }
        },
        "d703d982a0764deeaf64b082b019ae89": {
          "model_module": "@jupyter-widgets/controls",
          "model_name": "DescriptionStyleModel",
          "state": {
            "_view_name": "StyleView",
            "_model_name": "DescriptionStyleModel",
            "description_width": "",
            "_view_module": "@jupyter-widgets/base",
            "_model_module_version": "1.5.0",
            "_view_count": null,
            "_view_module_version": "1.2.0",
            "_model_module": "@jupyter-widgets/controls"
          }
        },
        "77654b7d980c47beb8e62251c47b6931": {
          "model_module": "@jupyter-widgets/base",
          "model_name": "LayoutModel",
          "state": {
            "_view_name": "LayoutView",
            "grid_template_rows": null,
            "right": null,
            "justify_content": null,
            "_view_module": "@jupyter-widgets/base",
            "overflow": null,
            "_model_module_version": "1.2.0",
            "_view_count": null,
            "flex_flow": null,
            "width": null,
            "min_width": null,
            "border": null,
            "align_items": null,
            "bottom": null,
            "_model_module": "@jupyter-widgets/base",
            "top": null,
            "grid_column": null,
            "overflow_y": null,
            "overflow_x": null,
            "grid_auto_flow": null,
            "grid_area": null,
            "grid_template_columns": null,
            "flex": null,
            "_model_name": "LayoutModel",
            "justify_items": null,
            "grid_row": null,
            "max_height": null,
            "align_content": null,
            "visibility": null,
            "align_self": null,
            "height": null,
            "min_height": null,
            "padding": null,
            "grid_auto_rows": null,
            "grid_gap": null,
            "max_width": null,
            "order": null,
            "_view_module_version": "1.2.0",
            "grid_template_areas": null,
            "object_position": null,
            "object_fit": null,
            "grid_auto_columns": null,
            "margin": null,
            "display": null,
            "left": null
          }
        },
        "559133c999e04057a6257ee309e1c319": {
          "model_module": "@jupyter-widgets/controls",
          "model_name": "HBoxModel",
          "state": {
            "_view_name": "HBoxView",
            "_dom_classes": [],
            "_model_name": "HBoxModel",
            "_view_module": "@jupyter-widgets/controls",
            "_model_module_version": "1.5.0",
            "_view_count": null,
            "_view_module_version": "1.5.0",
            "box_style": "",
            "layout": "IPY_MODEL_edc04a6c6c7d40b5a420f8b45925453e",
            "_model_module": "@jupyter-widgets/controls",
            "children": [
              "IPY_MODEL_818fa5d03940404a86e09648d5665dc0",
              "IPY_MODEL_cc88a8b6fa23435e827e8f0e0b67d095"
            ]
          }
        },
        "edc04a6c6c7d40b5a420f8b45925453e": {
          "model_module": "@jupyter-widgets/base",
          "model_name": "LayoutModel",
          "state": {
            "_view_name": "LayoutView",
            "grid_template_rows": null,
            "right": null,
            "justify_content": null,
            "_view_module": "@jupyter-widgets/base",
            "overflow": null,
            "_model_module_version": "1.2.0",
            "_view_count": null,
            "flex_flow": null,
            "width": null,
            "min_width": null,
            "border": null,
            "align_items": null,
            "bottom": null,
            "_model_module": "@jupyter-widgets/base",
            "top": null,
            "grid_column": null,
            "overflow_y": null,
            "overflow_x": null,
            "grid_auto_flow": null,
            "grid_area": null,
            "grid_template_columns": null,
            "flex": null,
            "_model_name": "LayoutModel",
            "justify_items": null,
            "grid_row": null,
            "max_height": null,
            "align_content": null,
            "visibility": null,
            "align_self": null,
            "height": null,
            "min_height": null,
            "padding": null,
            "grid_auto_rows": null,
            "grid_gap": null,
            "max_width": null,
            "order": null,
            "_view_module_version": "1.2.0",
            "grid_template_areas": null,
            "object_position": null,
            "object_fit": null,
            "grid_auto_columns": null,
            "margin": null,
            "display": null,
            "left": null
          }
        },
        "818fa5d03940404a86e09648d5665dc0": {
          "model_module": "@jupyter-widgets/controls",
          "model_name": "FloatProgressModel",
          "state": {
            "_view_name": "ProgressView",
            "style": "IPY_MODEL_abe7d5a9d88d4ece85816979e4aa926b",
            "_dom_classes": [],
            "description": "  0%",
            "_model_name": "FloatProgressModel",
            "bar_style": "info",
            "max": 1,
            "_view_module": "@jupyter-widgets/controls",
            "_model_module_version": "1.5.0",
            "value": 0,
            "_view_count": null,
            "_view_module_version": "1.5.0",
            "orientation": "horizontal",
            "min": 0,
            "description_tooltip": null,
            "_model_module": "@jupyter-widgets/controls",
            "layout": "IPY_MODEL_cac891082e624295b0107251a9d24054"
          }
        },
        "cc88a8b6fa23435e827e8f0e0b67d095": {
          "model_module": "@jupyter-widgets/controls",
          "model_name": "HTMLModel",
          "state": {
            "_view_name": "HTMLView",
            "style": "IPY_MODEL_af3e32bd42094a8bb635a43bf24f804c",
            "_dom_classes": [],
            "description": "",
            "_model_name": "HTMLModel",
            "placeholder": "​",
            "_view_module": "@jupyter-widgets/controls",
            "_model_module_version": "1.5.0",
            "value": " 0/4542 [00:00&lt;?, ?it/s]",
            "_view_count": null,
            "_view_module_version": "1.5.0",
            "description_tooltip": null,
            "_model_module": "@jupyter-widgets/controls",
            "layout": "IPY_MODEL_cb989a73126c48e9b211444a7c5daa98"
          }
        },
        "abe7d5a9d88d4ece85816979e4aa926b": {
          "model_module": "@jupyter-widgets/controls",
          "model_name": "ProgressStyleModel",
          "state": {
            "_view_name": "StyleView",
            "_model_name": "ProgressStyleModel",
            "description_width": "initial",
            "_view_module": "@jupyter-widgets/base",
            "_model_module_version": "1.5.0",
            "_view_count": null,
            "_view_module_version": "1.2.0",
            "bar_color": null,
            "_model_module": "@jupyter-widgets/controls"
          }
        },
        "cac891082e624295b0107251a9d24054": {
          "model_module": "@jupyter-widgets/base",
          "model_name": "LayoutModel",
          "state": {
            "_view_name": "LayoutView",
            "grid_template_rows": null,
            "right": null,
            "justify_content": null,
            "_view_module": "@jupyter-widgets/base",
            "overflow": null,
            "_model_module_version": "1.2.0",
            "_view_count": null,
            "flex_flow": null,
            "width": null,
            "min_width": null,
            "border": null,
            "align_items": null,
            "bottom": null,
            "_model_module": "@jupyter-widgets/base",
            "top": null,
            "grid_column": null,
            "overflow_y": null,
            "overflow_x": null,
            "grid_auto_flow": null,
            "grid_area": null,
            "grid_template_columns": null,
            "flex": null,
            "_model_name": "LayoutModel",
            "justify_items": null,
            "grid_row": null,
            "max_height": null,
            "align_content": null,
            "visibility": null,
            "align_self": null,
            "height": null,
            "min_height": null,
            "padding": null,
            "grid_auto_rows": null,
            "grid_gap": null,
            "max_width": null,
            "order": null,
            "_view_module_version": "1.2.0",
            "grid_template_areas": null,
            "object_position": null,
            "object_fit": null,
            "grid_auto_columns": null,
            "margin": null,
            "display": null,
            "left": null
          }
        },
        "af3e32bd42094a8bb635a43bf24f804c": {
          "model_module": "@jupyter-widgets/controls",
          "model_name": "DescriptionStyleModel",
          "state": {
            "_view_name": "StyleView",
            "_model_name": "DescriptionStyleModel",
            "description_width": "",
            "_view_module": "@jupyter-widgets/base",
            "_model_module_version": "1.5.0",
            "_view_count": null,
            "_view_module_version": "1.2.0",
            "_model_module": "@jupyter-widgets/controls"
          }
        },
        "cb989a73126c48e9b211444a7c5daa98": {
          "model_module": "@jupyter-widgets/base",
          "model_name": "LayoutModel",
          "state": {
            "_view_name": "LayoutView",
            "grid_template_rows": null,
            "right": null,
            "justify_content": null,
            "_view_module": "@jupyter-widgets/base",
            "overflow": null,
            "_model_module_version": "1.2.0",
            "_view_count": null,
            "flex_flow": null,
            "width": null,
            "min_width": null,
            "border": null,
            "align_items": null,
            "bottom": null,
            "_model_module": "@jupyter-widgets/base",
            "top": null,
            "grid_column": null,
            "overflow_y": null,
            "overflow_x": null,
            "grid_auto_flow": null,
            "grid_area": null,
            "grid_template_columns": null,
            "flex": null,
            "_model_name": "LayoutModel",
            "justify_items": null,
            "grid_row": null,
            "max_height": null,
            "align_content": null,
            "visibility": null,
            "align_self": null,
            "height": null,
            "min_height": null,
            "padding": null,
            "grid_auto_rows": null,
            "grid_gap": null,
            "max_width": null,
            "order": null,
            "_view_module_version": "1.2.0",
            "grid_template_areas": null,
            "object_position": null,
            "object_fit": null,
            "grid_auto_columns": null,
            "margin": null,
            "display": null,
            "left": null
          }
        }
      }
    }
  },
  "cells": [
    {
      "cell_type": "code",
      "metadata": {
        "id": "PYICcmTfdm0J",
        "colab": {
          "base_uri": "https://localhost:8080/",
          "height": 34
        },
        "outputId": "54c62a2a-2862-4a4c-e75c-bd924f1dba17"
      },
      "source": [
        "import os\n",
        "from google.colab import drive\n",
        "\n",
        "# Mount google drive\n",
        "DRIVE_MOUNT='/content/gdrive'\n",
        "drive.mount(DRIVE_MOUNT)\n",
        "\n",
        "\n",
        "# create folder to write data to\n",
        "CIS680_FOLDER=os.path.join(DRIVE_MOUNT, 'My Drive', 'CIS680_2019')\n",
        "HOMEWORK_FOLDER=os.path.join(CIS680_FOLDER, 'HW1')\n",
        "os.makedirs(HOMEWORK_FOLDER, exist_ok=True)"
      ],
      "execution_count": null,
      "outputs": [
        {
          "output_type": "stream",
          "text": [
            "Mounted at /content/gdrive\n"
          ],
          "name": "stdout"
        }
      ]
    },
    {
      "cell_type": "code",
      "metadata": {
        "id": "hguIwry8iH9S",
        "colab": {
          "base_uri": "https://localhost:8080/",
          "height": 467,
          "referenced_widgets": [
            "0c6ae84ab10f425cb4b1fb7adebc52d1",
            "f2a2f03b7a1b48988ba29192df29c20b",
            "19ceceadd2de4804b7ce0c1d8abc8157",
            "6065c8b9711b44c8954738de4018a6d3",
            "682fcedfc2e94fa08cef0a7f7917a053",
            "31929ce05d7f49debffe7bcfdd79e665",
            "f09caf9d4a9d44b7847a2cbe621e123c",
            "b9eb363ee0614d6eb42503c1f4b328c1",
            "833ddf7701ae434ab7d587780e9208c1",
            "f596ed81b5ba4f9d8c1de0860913df83",
            "ff3e94d8bf8f4066a861f7e64edbbaaf",
            "29c65deca2484452ac91ee37580109ba",
            "fe1f16d2f12a44c0ba97167d4fdf28cf",
            "502341c1ccf04c0faf78c75d969edc25",
            "97d345f2f4d54451a8880d8e21dad849",
            "2d526c2531fe4ac1b499fac60b691bb4",
            "297d2e9c579b4c3384d25a7a68f2d6ae",
            "b0c1beee0db148a7bce60f651582cd1b",
            "61818ea956dc4ccf8e24c7b9f539be77",
            "6db87db92f6f4effacf21f094a262fd1",
            "fee31300e5f044579e364f5f9bab8b4f",
            "22fa35414d294e888c5172b8147b2ce5",
            "bb73418a96e0406195c0772b529696a2",
            "7d58684cc75a44f8ba0a258ba1e34b03",
            "86d3b1430c9545279ec16fab617a9374",
            "13730068498245e29b40d136aadd4ec1",
            "e8c043c332fc4853ab04ede65faf22e2",
            "31481750b74d46989a6c19975e09f495",
            "df59eadb7881455991eefcb1567a3ab9",
            "f6df461d83c5480b954c32283fc21d69",
            "270144b5563849208d1e670ea175f7c3",
            "06448456001647969281942604482625"
          ]
        },
        "outputId": "f67e6dbb-23e1-4a7b-8b36-8e6c76a2388c"
      },
      "source": [
        "# torch and torchvision imports\n",
        "import torch\n",
        "import torchvision\n",
        "\n",
        "# Download MNIST\n",
        "torchvision.datasets.MNIST('.', download=True)"
      ],
      "execution_count": null,
      "outputs": [
        {
          "output_type": "stream",
          "text": [
            "Downloading http://yann.lecun.com/exdb/mnist/train-images-idx3-ubyte.gz to ./MNIST/raw/train-images-idx3-ubyte.gz\n"
          ],
          "name": "stdout"
        },
        {
          "output_type": "display_data",
          "data": {
            "application/vnd.jupyter.widget-view+json": {
              "model_id": "0c6ae84ab10f425cb4b1fb7adebc52d1",
              "version_minor": 0,
              "version_major": 2
            },
            "text/plain": [
              "HBox(children=(FloatProgress(value=1.0, bar_style='info', max=1.0), HTML(value='')))"
            ]
          },
          "metadata": {
            "tags": []
          }
        },
        {
          "output_type": "stream",
          "text": [
            "Extracting ./MNIST/raw/train-images-idx3-ubyte.gz to ./MNIST/raw\n",
            "Downloading http://yann.lecun.com/exdb/mnist/train-labels-idx1-ubyte.gz to ./MNIST/raw/train-labels-idx1-ubyte.gz\n"
          ],
          "name": "stdout"
        },
        {
          "output_type": "display_data",
          "data": {
            "application/vnd.jupyter.widget-view+json": {
              "model_id": "833ddf7701ae434ab7d587780e9208c1",
              "version_minor": 0,
              "version_major": 2
            },
            "text/plain": [
              "HBox(children=(FloatProgress(value=1.0, bar_style='info', max=1.0), HTML(value='')))"
            ]
          },
          "metadata": {
            "tags": []
          }
        },
        {
          "output_type": "stream",
          "text": [
            "Extracting ./MNIST/raw/train-labels-idx1-ubyte.gz to ./MNIST/raw\n",
            "Downloading http://yann.lecun.com/exdb/mnist/t10k-images-idx3-ubyte.gz to ./MNIST/raw/t10k-images-idx3-ubyte.gz\n"
          ],
          "name": "stdout"
        },
        {
          "output_type": "display_data",
          "data": {
            "application/vnd.jupyter.widget-view+json": {
              "model_id": "297d2e9c579b4c3384d25a7a68f2d6ae",
              "version_minor": 0,
              "version_major": 2
            },
            "text/plain": [
              "HBox(children=(FloatProgress(value=1.0, bar_style='info', max=1.0), HTML(value='')))"
            ]
          },
          "metadata": {
            "tags": []
          }
        },
        {
          "output_type": "stream",
          "text": [
            "Extracting ./MNIST/raw/t10k-images-idx3-ubyte.gz to ./MNIST/raw\n",
            "Downloading http://yann.lecun.com/exdb/mnist/t10k-labels-idx1-ubyte.gz to ./MNIST/raw/t10k-labels-idx1-ubyte.gz\n",
            "\n",
            "\n"
          ],
          "name": "stdout"
        },
        {
          "output_type": "display_data",
          "data": {
            "application/vnd.jupyter.widget-view+json": {
              "model_id": "86d3b1430c9545279ec16fab617a9374",
              "version_minor": 0,
              "version_major": 2
            },
            "text/plain": [
              "HBox(children=(FloatProgress(value=1.0, bar_style='info', max=1.0), HTML(value='')))"
            ]
          },
          "metadata": {
            "tags": []
          }
        },
        {
          "output_type": "stream",
          "text": [
            "Extracting ./MNIST/raw/t10k-labels-idx1-ubyte.gz to ./MNIST/raw\n",
            "Processing...\n",
            "Done!\n"
          ],
          "name": "stdout"
        },
        {
          "output_type": "stream",
          "text": [
            "/usr/local/lib/python3.6/dist-packages/torchvision/datasets/mnist.py:469: UserWarning: The given NumPy array is not writeable, and PyTorch does not support non-writeable tensors. This means you can write to the underlying (supposedly non-writeable) NumPy array using the tensor. You may want to copy the array to protect its data or make it writeable before converting it to a tensor. This type of warning will be suppressed for the rest of this program. (Triggered internally at  /pytorch/torch/csrc/utils/tensor_numpy.cpp:141.)\n",
            "  return torch.from_numpy(parsed.astype(m[2], copy=False)).view(*s)\n"
          ],
          "name": "stderr"
        },
        {
          "output_type": "execute_result",
          "data": {
            "text/plain": [
              "Dataset MNIST\n",
              "    Number of datapoints: 60000\n",
              "    Root location: .\n",
              "    Split: Train"
            ]
          },
          "metadata": {
            "tags": []
          },
          "execution_count": 2
        }
      ]
    },
    {
      "cell_type": "code",
      "metadata": {
        "id": "czpCwWgmh7AD"
      },
      "source": [
        "import matplotlib.pyplot as plt\n",
        "from mpl_toolkits.mplot3d import Axes3D"
      ],
      "execution_count": null,
      "outputs": []
    },
    {
      "cell_type": "code",
      "metadata": {
        "id": "yCfDMxPB_o9A",
        "colab": {
          "base_uri": "https://localhost:8080/",
          "height": 330,
          "referenced_widgets": [
            "0149fe4d5ea34a75b61652d3af0b6f03",
            "d417b7ab1fb943eba42e838d1284e110",
            "8f9b610e3a6f4e499abacfb4d7bc0cde",
            "63bc64af3592448c874b8ced3de2a541",
            "43aa36fb25f44aa1811899256e3163a6",
            "8854d4cf7808418a94bddab7590b0849",
            "4d41ba1c3bee491886ebafaa93e4c524",
            "ca8813db169641b882d5a2713e3de1c4",
            "399edc4688fe4148ab0baffde81cbf46",
            "974df520fa804660a697e883e6e67542",
            "b345f94419f84c0c952ced5fdf449612",
            "2dcc974e447f42c49961f9f9ac92fccc",
            "13f287893c774f3dbfb2a577347be66d",
            "a49b02bb5f5145999c9028ca6ac547a3",
            "38fd05c19eb14fe6bb93e6903692ddaa",
            "42181d79e9a349e085463376ce854c91",
            "5253ff5016794e7781314c1c0f101b29",
            "d0d3f5ff8f0c49bc8d872a17e83c5b66",
            "42083577432e410885dbd999561fa8b7",
            "b10cbad78e4b40a48398689bc6286618",
            "57487e76a4fd409da64dda55f09e3e18",
            "ab4a749ac2544c6689ac14ca5d9452ee",
            "d703d982a0764deeaf64b082b019ae89",
            "77654b7d980c47beb8e62251c47b6931",
            "559133c999e04057a6257ee309e1c319",
            "edc04a6c6c7d40b5a420f8b45925453e",
            "818fa5d03940404a86e09648d5665dc0",
            "cc88a8b6fa23435e827e8f0e0b67d095",
            "abe7d5a9d88d4ece85816979e4aa926b",
            "cac891082e624295b0107251a9d24054",
            "af3e32bd42094a8bb635a43bf24f804c",
            "cb989a73126c48e9b211444a7c5daa98"
          ]
        },
        "outputId": "b3ab3f85-1716-4b10-bdf4-e561b1bf2c15"
      },
      "source": [
        "batch_size_train=64\n",
        "batch_size_test=1\n",
        "train_loader = torch.utils.data.DataLoader(\n",
        "  torchvision.datasets.MNIST('/files/', train=True, download=True,\n",
        "                             transform=torchvision.transforms.Compose([\n",
        "                               torchvision.transforms.ToTensor(),\n",
        "                               torchvision.transforms.Normalize(\n",
        "                                 (0.5,), (0.5,))\n",
        "                             ])),\n",
        "  batch_size=batch_size_train, shuffle=True)\n",
        "\n",
        "test_loader = torch.utils.data.DataLoader(\n",
        "  torchvision.datasets.MNIST('/files/', train=False, download=True,\n",
        "                             transform=torchvision.transforms.Compose([\n",
        "                               torchvision.transforms.ToTensor(),\n",
        "                               torchvision.transforms.Normalize(\n",
        "                                 (0.5,), (0.5,))\n",
        "                             ])),\n",
        "  batch_size=batch_size_test, shuffle=True)"
      ],
      "execution_count": null,
      "outputs": [
        {
          "output_type": "stream",
          "text": [
            "Downloading http://yann.lecun.com/exdb/mnist/train-images-idx3-ubyte.gz to /files/MNIST/raw/train-images-idx3-ubyte.gz\n"
          ],
          "name": "stdout"
        },
        {
          "output_type": "display_data",
          "data": {
            "application/vnd.jupyter.widget-view+json": {
              "model_id": "0149fe4d5ea34a75b61652d3af0b6f03",
              "version_minor": 0,
              "version_major": 2
            },
            "text/plain": [
              "HBox(children=(FloatProgress(value=1.0, bar_style='info', max=1.0), HTML(value='')))"
            ]
          },
          "metadata": {
            "tags": []
          }
        },
        {
          "output_type": "stream",
          "text": [
            "Extracting /files/MNIST/raw/train-images-idx3-ubyte.gz to /files/MNIST/raw\n",
            "Downloading http://yann.lecun.com/exdb/mnist/train-labels-idx1-ubyte.gz to /files/MNIST/raw/train-labels-idx1-ubyte.gz\n",
            "\n"
          ],
          "name": "stdout"
        },
        {
          "output_type": "display_data",
          "data": {
            "application/vnd.jupyter.widget-view+json": {
              "model_id": "399edc4688fe4148ab0baffde81cbf46",
              "version_minor": 0,
              "version_major": 2
            },
            "text/plain": [
              "HBox(children=(FloatProgress(value=1.0, bar_style='info', max=1.0), HTML(value='')))"
            ]
          },
          "metadata": {
            "tags": []
          }
        },
        {
          "output_type": "stream",
          "text": [
            "Extracting /files/MNIST/raw/train-labels-idx1-ubyte.gz to /files/MNIST/raw\n",
            "Downloading http://yann.lecun.com/exdb/mnist/t10k-images-idx3-ubyte.gz to /files/MNIST/raw/t10k-images-idx3-ubyte.gz\n"
          ],
          "name": "stdout"
        },
        {
          "output_type": "display_data",
          "data": {
            "application/vnd.jupyter.widget-view+json": {
              "model_id": "5253ff5016794e7781314c1c0f101b29",
              "version_minor": 0,
              "version_major": 2
            },
            "text/plain": [
              "HBox(children=(FloatProgress(value=1.0, bar_style='info', max=1.0), HTML(value='')))"
            ]
          },
          "metadata": {
            "tags": []
          }
        },
        {
          "output_type": "stream",
          "text": [
            "Extracting /files/MNIST/raw/t10k-images-idx3-ubyte.gz to /files/MNIST/raw\n",
            "Downloading http://yann.lecun.com/exdb/mnist/t10k-labels-idx1-ubyte.gz to /files/MNIST/raw/t10k-labels-idx1-ubyte.gz\n"
          ],
          "name": "stdout"
        },
        {
          "output_type": "display_data",
          "data": {
            "application/vnd.jupyter.widget-view+json": {
              "model_id": "559133c999e04057a6257ee309e1c319",
              "version_minor": 0,
              "version_major": 2
            },
            "text/plain": [
              "HBox(children=(FloatProgress(value=1.0, bar_style='info', max=1.0), HTML(value='')))"
            ]
          },
          "metadata": {
            "tags": []
          }
        },
        {
          "output_type": "stream",
          "text": [
            "Extracting /files/MNIST/raw/t10k-labels-idx1-ubyte.gz to /files/MNIST/raw\n",
            "Processing...\n",
            "Done!\n"
          ],
          "name": "stdout"
        }
      ]
    },
    {
      "cell_type": "code",
      "metadata": {
        "id": "VLgCyIM6z_Yi",
        "colab": {
          "base_uri": "https://localhost:8080/",
          "height": 298
        },
        "outputId": "035f46c3-2d24-449e-b8fe-c27fe3b0be2c"
      },
      "source": [
        "import matplotlib.pyplot as plt\n",
        "for idx, data in enumerate(test_loader):\n",
        "  image,label=data\n",
        "  plt.imshow(image[idx][0].cpu().data,cmap='gray',)\n",
        "  if(idx==5):\n",
        "    print(label[idx])\n",
        "    print(image.shape)\n",
        "    break"
      ],
      "execution_count": null,
      "outputs": [
        {
          "output_type": "stream",
          "text": [
            "tensor(3)\n",
            "torch.Size([1000, 1, 28, 28])\n"
          ],
          "name": "stdout"
        },
        {
          "output_type": "display_data",
          "data": {
            "image/png": "[encoded data removed]",
            "text/plain": [
              "<Figure size 432x288 with 1 Axes>"
            ]
          },
          "metadata": {
            "tags": [],
            "needs_background": "light"
          }
        }
      ]
    },
    {
      "cell_type": "code",
      "metadata": {
        "id": "X2IpxxUkCJ93"
      },
      "source": [
        "import torch.nn as nn\n",
        "import torch.nn.functional as F\n",
        "import torch.optim as optim"
      ],
      "execution_count": null,
      "outputs": []
    },
    {
      "cell_type": "code",
      "metadata": {
        "id": "amsQocDR828Y"
      },
      "source": [
        "class Net(nn.Module):\n",
        "    def __init__(self): \n",
        "        super(Net, self).__init__()\n",
        "        self.features = nn.Sequential(\n",
        "            nn.Conv2d(1, 32, 5,padding=(2,2)),         \n",
        "            nn.BatchNorm2d(32),\n",
        "            nn.ReLU(),\n",
        "            nn.AvgPool2d(2, stride=2),  \n",
        "            nn.Conv2d(32, 32, 5,padding=(2,2)),         \n",
        "            nn.BatchNorm2d(32),\n",
        "            nn.ReLU(),\n",
        "            nn.AvgPool2d(2, stride=2),         \n",
        "            nn.Conv2d(32, 64, 5,padding=(2,2)),         \n",
        "            nn.BatchNorm2d(64),\n",
        "            nn.ReLU(),\n",
        "            nn.AvgPool2d(2, stride=2)                \n",
        "        )\n",
        "     \n",
        "        self.classifier = nn.Sequential(\n",
        "            nn.Linear(64*3*3, 64),        \n",
        "            nn.BatchNorm1d(64),\n",
        "            nn.ReLU(),\n",
        "            nn.Linear(64,10)           \n",
        "        )\n",
        "        \n",
        "    def forward(self, x):\n",
        "        x = self.features(x)\n",
        "        x = x.view(x.size(0), -1)\n",
        "        x = self.classifier(x)\n",
        "        return x"
      ],
      "execution_count": null,
      "outputs": []
    },
    {
      "cell_type": "code",
      "metadata": {
        "id": "9EDPqsiCCOjx"
      },
      "source": [
        "device = torch.device(\"cuda\")\n",
        "CNNnet=Net()\n",
        "CNNnet.cuda()\n",
        "criterion = nn.CrossEntropyLoss()\n",
        "optimizer = optim.Adam(CNNnet.parameters(), lr=0.0001,weight_decay=1e-4)"
      ],
      "execution_count": null,
      "outputs": []
    },
    {
      "cell_type": "code",
      "metadata": {
        "id": "J1CrYIpPFAYW"
      },
      "source": [
        "train_acc=[]\n",
        "train_acc.append(0)\n",
        "trainloss=[]\n",
        "test_acc=[]\n",
        "test_acc.append(0)\n",
        "test_loss=[]"
      ],
      "execution_count": null,
      "outputs": []
    },
    {
      "cell_type": "code",
      "metadata": {
        "id": "N8izp8qGFBPw"
      },
      "source": [
        "def traintest_model(train_dataloader,test_loader, optimizer, criterion, net):\n",
        "  net.to(device)\n",
        "  over_step = 0 \n",
        "  for epoch in range(10):\n",
        "    net.train()\n",
        "    correct=0\n",
        "    overall_loss = 0\n",
        "    total = 0\n",
        "    for idx,(data,target) in enumerate(train_dataloader):\n",
        "      data,target = data.to(device),target.to(device)\n",
        "      optimizer.zero_grad()\n",
        "      output = net(data)\n",
        "      loss = criterion(output,target)\n",
        "      overall_loss+=loss.item()\n",
        "      loss.backward()\n",
        "      optimizer.step()\n",
        "      over_step+=1\n",
        "      pred = torch.argmax(output,1)\n",
        "      correct+=(pred==target).cpu().sum().item()\n",
        "      train_loss = overall_loss/(idx+1)\n",
        "      acc = correct/len(train_dataloader.dataset)\n",
        "    train_loss = overall_loss/(idx+1)\n",
        "    accuracy = correct/len(train_dataloader.dataset)\n",
        "    train_acc.append(accuracy)\n",
        "    trainloss.append(train_loss)\n",
        "    print(epoch,\"Train accuracy\",accuracy*100,train_loss)\n",
        "    with torch.no_grad(): \n",
        "      overall_loss = 0\n",
        "      correct_values=0\n",
        "      overall_loss=0\n",
        "      instances=0\n",
        "      avg_loss=0\n",
        "      for idx,data in enumerate(test_loader):\n",
        "        image,label=data\n",
        "        image, label = image.to(device), label.to(device)\n",
        "        optimizer.zero_grad()\n",
        "        Y_pred=net(image)\n",
        "        loss = criterion(Y_pred,label)\n",
        "        overall_loss += loss.item()\n",
        "        predicted_value=torch.argmax(Y_pred,1)\n",
        "        instances += image.size(0)\n",
        "        correct_values+=(predicted_value == label).sum().item()\n",
        "      testaccuracy = correct_values /len(test_loader.dataset)\n",
        "      avg_loss = overall_loss /idx+1\n",
        "      test_acc.append(testaccuracy)\n",
        "      test_loss.append(avg_loss)\n",
        "      print(\"Test accuracy\",testaccuracy*100,avg_loss)"
      ],
      "execution_count": null,
      "outputs": []
    },
    {
      "cell_type": "code",
      "metadata": {
        "id": "viTaXcPW8WeW",
        "colab": {
          "base_uri": "https://localhost:8080/",
          "height": 353
        },
        "outputId": "09be0aee-e742-49a2-b7f5-3b95e3f00f4e"
      },
      "source": [
        "traintest_model(train_loader,test_loader, optimizer, criterion, CNNnet)"
      ],
      "execution_count": null,
      "outputs": [
        {
          "output_type": "stream",
          "text": [
            "0 Train accuracy 94.80166666666666 0.4761288022356374\n",
            "Test accuracy 98.59 1.1669186237785552\n",
            "1 Train accuracy 98.63 0.10936506850712462\n",
            "Test accuracy 98.95 1.0742327732344468\n",
            "2 Train accuracy 99.065 0.05628283510504882\n",
            "Test accuracy 99.19 1.0455621919698186\n",
            "3 Train accuracy 99.26166666666667 0.037668903889472104\n",
            "Test accuracy 99.22999999999999 1.0347003042697906\n",
            "4 Train accuracy 99.39666666666666 0.027669625193960885\n",
            "Test accuracy 99.26 1.0311660652773247\n",
            "5 Train accuracy 99.565 0.02070803403246727\n",
            "Test accuracy 99.24 1.0290849622752931\n",
            "6 Train accuracy 99.55166666666668 0.018304758343293565\n",
            "Test accuracy 99.31 1.0256035493479834\n",
            "7 Train accuracy 99.61166666666666 0.01559663561372849\n",
            "Test accuracy 99.37 1.0226245378661487\n",
            "8 Train accuracy 99.72666666666666 0.012034986283072133\n",
            "Test accuracy 99.27 1.0251252537386284\n",
            "9 Train accuracy 99.72333333333333 0.011486298948484682\n",
            "Test accuracy 99.39 1.0241980529907677\n"
          ],
          "name": "stdout"
        }
      ]
    },
    {
      "cell_type": "code",
      "metadata": {
        "id": "5J7JXIB_Cq9x",
        "colab": {
          "base_uri": "https://localhost:8080/",
          "height": 34
        },
        "outputId": "3b36fd71-5c90-4ae9-e442-1b1f24088c73"
      },
      "source": [
        "epoch=[]\n",
        "for i in range(10):\n",
        "  epoch.append(i)\n",
        "print(epoch)"
      ],
      "execution_count": null,
      "outputs": [
        {
          "output_type": "stream",
          "text": [
            "[0, 1, 2, 3, 4, 5, 6, 7, 8, 9]\n"
          ],
          "name": "stdout"
        }
      ]
    },
    {
      "cell_type": "markdown",
      "metadata": {
        "id": "buJLyTUXE0pW"
      },
      "source": [
        "**ACCURACY= CORRECT PREDICTIONS/TOTAL**"
      ]
    },
    {
      "cell_type": "code",
      "metadata": {
        "id": "j0wuvirpBnvq",
        "colab": {
          "base_uri": "https://localhost:8080/",
          "height": 279
        },
        "outputId": "6588da5b-7acf-418e-e5ee-ec2b9fc6ce9f"
      },
      "source": [
        "import matplotlib.pyplot as plt\n",
        "plt.plot(epoch,train_acc)\n",
        "plt.ylabel('Train Accuracy')\n",
        "plt.xlabel('Epochs')\n",
        "plt.show()"
      ],
      "execution_count": null,
      "outputs": [
        {
          "output_type": "display_data",
          "data": {
            "image/png": "[encoded data removed]",
            "text/plain": [
              "<Figure size 432x288 with 1 Axes>"
            ]
          },
          "metadata": {
            "tags": [],
            "needs_background": "light"
          }
        }
      ]
    },
    {
      "cell_type": "code",
      "metadata": {
        "id": "jj5Q2BAzB0eU",
        "colab": {
          "base_uri": "https://localhost:8080/",
          "height": 279
        },
        "outputId": "3dc189dd-8bc2-4e81-829a-365550c42e18"
      },
      "source": [
        "import matplotlib.pyplot as plt\n",
        "plt.plot(epoch,trainloss)\n",
        "plt.ylabel('Train Loss')\n",
        "plt.xlabel('Epochs')\n",
        "plt.show()"
      ],
      "execution_count": null,
      "outputs": [
        {
          "output_type": "display_data",
          "data": {
            "image/png": "[encoded data removed]",
            "text/plain": [
              "<Figure size 432x288 with 1 Axes>"
            ]
          },
          "metadata": {
            "tags": [],
            "needs_background": "light"
          }
        }
      ]
    },
    {
      "cell_type": "code",
      "metadata": {
        "id": "Cgj1R2W-B1Ed"
      },
      "source": [
        "import matplotlib.pyplot as plt\n",
        "plt.plot(epoch,test_acc)\n",
        "plt.ylabel('Test Accuracy')\n",
        "plt.xlabel('Epochs')\n",
        "plt.show()"
      ],
      "execution_count": null,
      "outputs": []
    },
    {
      "cell_type": "code",
      "metadata": {
        "id": "ZPo0OyU-B1br",
        "colab": {
          "base_uri": "https://localhost:8080/",
          "height": 279
        },
        "outputId": "038306e1-6ecb-426c-b558-518b802beabc"
      },
      "source": [
        "import matplotlib.pyplot as plt\n",
        "plt.plot(epoch,test_loss)\n",
        "plt.ylabel('Test Loss')\n",
        "plt.xlabel('Epochs')\n",
        "plt.show()"
      ],
      "execution_count": null,
      "outputs": [
        {
          "output_type": "display_data",
          "data": {
            "image/png": "[encoded data removed]",
            "text/plain": [
              "<Figure size 432x288 with 1 Axes>"
            ]
          },
          "metadata": {
            "tags": [],
            "needs_background": "light"
          }
        }
      ]
    },
    {
      "cell_type": "markdown",
      "metadata": {
        "id": "FBiHtTNjLs7u"
      },
      "source": [
        "# **ADVERSARIAL ATTACKS (FGSM)**"
      ]
    },
    {
      "cell_type": "code",
      "metadata": {
        "id": "qLn-MzXKkgm4",
        "colab": {
          "base_uri": "https://localhost:8080/",
          "height": 34
        },
        "outputId": "699fc82d-3baa-46e1-8518-3d82ae9bb026"
      },
      "source": [
        "device = torch.device(\"cuda\")\n",
        "CNNnet=Net()\n",
        "CNNnet.cuda()\n",
        "criterion = nn.CrossEntropyLoss()\n",
        "optimizer = optim.Adam(CNNnet.parameters(), lr=0.0001,weight_decay=1e-4)\n",
        "torch.manual_seed(2)"
      ],
      "execution_count": null,
      "outputs": [
        {
          "output_type": "execute_result",
          "data": {
            "text/plain": [
              "<torch._C.Generator at 0x7ff05d03c228>"
            ]
          },
          "metadata": {
            "tags": []
          },
          "execution_count": 8
        }
      ]
    },
    {
      "cell_type": "code",
      "metadata": {
        "id": "fqr-niSXkX28"
      },
      "source": [
        "def train_model(train_dataloader, optimizer, criterion, net):\n",
        "  net.to(device)\n",
        "  over_step = 0 \n",
        "  for epoch in range(4):\n",
        "    net.train()\n",
        "    correct=0\n",
        "    overall_loss = 0\n",
        "    total = 0\n",
        "    for idx,(data,target) in enumerate(train_dataloader):\n",
        "      data,target = data.to(device),target.to(device)\n",
        "      optimizer.zero_grad()\n",
        "      output = net(data)\n",
        "      loss = criterion(output,target)\n",
        "      overall_loss+=loss.item()\n",
        "      loss.backward()\n",
        "      optimizer.step()\n",
        "      over_step+=1\n",
        "      pred = torch.argmax(output,1)\n",
        "      correct+=(pred==target).cpu().sum().item()\n",
        "      train_loss = overall_loss/(idx+1)\n",
        "      acc = correct/len(train_dataloader.dataset)\n",
        "    train_loss = overall_loss/(idx+1)\n",
        "    accuracy = correct/len(train_dataloader.dataset)\n",
        "    print(epoch,\"Train accuracy\",accuracy*100,train_loss)"
      ],
      "execution_count": null,
      "outputs": []
    },
    {
      "cell_type": "code",
      "metadata": {
        "id": "J1_IMmy7kmEz",
        "colab": {
          "base_uri": "https://localhost:8080/",
          "height": 84
        },
        "outputId": "b005040b-aeba-4d2c-8e1c-e461e2c21a1c"
      },
      "source": [
        "train_model(train_loader, optimizer, criterion, CNNnet)"
      ],
      "execution_count": null,
      "outputs": [
        {
          "output_type": "stream",
          "text": [
            "0 Train accuracy 94.88499999999999 0.47696327568212554\n",
            "1 Train accuracy 98.66166666666668 0.10648742540558773\n",
            "2 Train accuracy 99.05833333333334 0.05453303970519636\n",
            "3 Train accuracy 99.29166666666667 0.03689008650344127\n"
          ],
          "name": "stdout"
        }
      ]
    },
    {
      "cell_type": "markdown",
      "metadata": {
        "id": "tWR3rhPYHVCR"
      },
      "source": [
        "# **UNTARGETED ATTACKS**"
      ]
    },
    {
      "cell_type": "code",
      "metadata": {
        "id": "F8KnWmjbwn03"
      },
      "source": [
        "test_loader = torch.utils.data.DataLoader(\n",
        "  torchvision.datasets.MNIST('/files/', train=False, download=True,\n",
        "                             transform=torchvision.transforms.Compose([\n",
        "                               torchvision.transforms.ToTensor(),\n",
        "                               torchvision.transforms.Normalize(\n",
        "                                 (0.5,), (0.5,))\n",
        "                             ])),\n",
        "  batch_size=1, shuffle=True)"
      ],
      "execution_count": null,
      "outputs": []
    },
    {
      "cell_type": "code",
      "metadata": {
        "id": "WfCXR7TCCP1X"
      },
      "source": [
        "def fgsm(X,net,y,epsilon):\n",
        "  delta = torch.zeros_like(X,requires_grad=True)\n",
        "  output = net(X+delta)\n",
        "  loss = criterion(output,y)\n",
        "  net.zero_grad()\n",
        "  loss.backward()\n",
        "  I_new = torch.clamp(X + torch.clamp(epsilon*delta.grad.detach().sign(),min=0),-1,1)\n",
        "  return I_new"
      ],
      "execution_count": null,
      "outputs": []
    },
    {
      "cell_type": "code",
      "metadata": {
        "id": "0KlCfJ_62YzN"
      },
      "source": [
        "target_list=[]\n",
        "img_adv_list=[]"
      ],
      "execution_count": null,
      "outputs": []
    },
    {
      "cell_type": "code",
      "metadata": {
        "id": "e-Gsb65aCTPA",
        "colab": {
          "base_uri": "https://localhost:8080/",
          "height": 1000
        },
        "outputId": "dff8c513-b35e-420d-9e2e-125480bb7b43"
      },
      "source": [
        "i=0\n",
        "import matplotlib.pyplot as plt\n",
        "device = torch.device(\"cuda\")\n",
        "CNNnet.to(device)\n",
        "CNNnet.eval()\n",
        "count = []\n",
        "for data,target in test_loader:\n",
        "  i=i+1\n",
        "  data,target = data.to(device),target.to(device)\n",
        "  print(\"Ground truth- \", target.cpu().item())\n",
        "  output = F.softmax(CNNnet(data))\n",
        "  confidence,pred = torch.max(output,1)\n",
        "  print('Prediction- ',pred.cpu().item() )\n",
        "  print('Confidence- ' , confidence.cpu().item()*100)\n",
        "  target_list.append(target)\n",
        "  print('Input Image: ')\n",
        "  plt.imshow(data[0][0].cpu().data,cmap='gray',)\n",
        "  plt.show()\n",
        "\n",
        "  #Adverserial Image generation\n",
        "  I_new = fgsm(data,CNNnet,target,0.02)\n",
        "  output = F.softmax(CNNnet(data))\n",
        "  confidence,pred = torch.max(output,1)\n",
        "  print('Prediction- ',pred.cpu().item() )\n",
        "  print('Confidence- ' , confidence.cpu().item()*100)\n",
        "  while pred.cpu().item() == target.cpu().item():\n",
        "    I_new = fgsm(I_new,CNNnet,target,0.02)\n",
        "    output = F.softmax(CNNnet(I_new))\n",
        "    confidence,pred = torch.max(output,1)\n",
        "    print('Prediction- ',pred.cpu().item())\n",
        "    print('Confidence- ' , confidence.cpu().item()*100)\n",
        "  while confidence<=0.9:\n",
        "    I_new = fgsm(I_new,CNNnet,target,0.02)\n",
        "    output = F.softmax(CNNnet(I_new))\n",
        "    confidence,pred = torch.max(output,1)\n",
        "    print('Prediction- ',pred.cpu().item())\n",
        "    print('Confidence- ' , confidence.cpu().item()*100)\n",
        "  print('Adverserial Image: ')\n",
        "  plt.imshow(I_new[0][0].cpu().data,cmap='gray',)\n",
        "  plt.show()\n",
        "  Img=I_new[0][0].unsqueeze(0)\n",
        "  Img=Img.unsqueeze(0)\n",
        "  img_adv_list.append(Img)\n",
        "  if i>=10:\n",
        "    break\n"
      ],
      "execution_count": null,
      "outputs": [
        {
          "output_type": "stream",
          "text": [
            "Ground truth-  6\n",
            "Prediction-  6\n",
            "Confidence-  99.84362721443176\n",
            "Input Image: \n"
          ],
          "name": "stdout"
        },
        {
          "output_type": "stream",
          "text": [
            "/usr/local/lib/python3.6/dist-packages/ipykernel_launcher.py:11: UserWarning: Implicit dimension choice for softmax has been deprecated. Change the call to include dim=X as an argument.\n",
            "  # This is added back by InteractiveShellApp.init_path()\n"
          ],
          "name": "stderr"
        },
        {
          "output_type": "display_data",
          "data": {
            "image/png": "[encoded data removed]",
            "text/plain": [
              "<Figure size 432x288 with 1 Axes>"
            ]
          },
          "metadata": {
            "tags": [],
            "needs_background": "light"
          }
        },
        {
          "output_type": "stream",
          "text": [
            "Prediction-  6\n",
            "Confidence-  99.84362721443176\n",
            "Prediction-  6\n",
            "Confidence-  99.71760511398315\n",
            "Prediction-  6\n",
            "Confidence-  99.61200952529907\n",
            "Prediction-  6\n",
            "Confidence-  99.46016073226929\n",
            "Prediction-  6\n",
            "Confidence-  99.2334246635437\n",
            "Prediction-  6\n",
            "Confidence-  98.87893199920654\n",
            "Prediction-  6\n",
            "Confidence-  98.30575585365295\n",
            "Prediction-  6\n",
            "Confidence-  97.38136529922485\n",
            "Prediction-  6\n",
            "Confidence-  96.02476358413696\n",
            "Prediction-  6\n",
            "Confidence-  93.94749999046326\n",
            "Prediction-  6\n",
            "Confidence-  90.72188138961792\n",
            "Prediction-  6\n",
            "Confidence-  85.48741340637207\n",
            "Prediction-  6\n",
            "Confidence-  77.76142954826355\n",
            "Prediction-  6\n",
            "Confidence-  67.34979152679443\n",
            "Prediction-  6\n",
            "Confidence-  53.43826413154602\n",
            "Prediction-  8\n",
            "Confidence-  57.329946756362915\n",
            "Prediction-  8\n",
            "Confidence-  71.11766934394836\n",
            "Prediction-  8\n",
            "Confidence-  81.81089758872986\n",
            "Prediction-  8\n",
            "Confidence-  88.62659335136414\n",
            "Prediction-  8\n",
            "Confidence-  92.97326803207397\n",
            "Adverserial Image: \n"
          ],
          "name": "stdout"
        },
        {
          "output_type": "stream",
          "text": [
            "/usr/local/lib/python3.6/dist-packages/ipykernel_launcher.py:22: UserWarning: Implicit dimension choice for softmax has been deprecated. Change the call to include dim=X as an argument.\n",
            "/usr/local/lib/python3.6/dist-packages/ipykernel_launcher.py:28: UserWarning: Implicit dimension choice for softmax has been deprecated. Change the call to include dim=X as an argument.\n",
            "/usr/local/lib/python3.6/dist-packages/ipykernel_launcher.py:34: UserWarning: Implicit dimension choice for softmax has been deprecated. Change the call to include dim=X as an argument.\n"
          ],
          "name": "stderr"
        },
        {
          "output_type": "display_data",
          "data": {
            "image/png": "[encoded data removed]",
            "text/plain": [
              "<Figure size 432x288 with 1 Axes>"
            ]
          },
          "metadata": {
            "tags": [],
            "needs_background": "light"
          }
        },
        {
          "output_type": "stream",
          "text": [
            "Ground truth-  1\n",
            "Prediction-  1\n",
            "Confidence-  98.57315421104431\n",
            "Input Image: \n"
          ],
          "name": "stdout"
        },
        {
          "output_type": "display_data",
          "data": {
            "image/png": "[encoded data removed]",
            "text/plain": [
              "<Figure size 432x288 with 1 Axes>"
            ]
          },
          "metadata": {
            "tags": [],
            "needs_background": "light"
          }
        },
        {
          "output_type": "stream",
          "text": [
            "Prediction-  1\n",
            "Confidence-  98.57315421104431\n",
            "Prediction-  1\n",
            "Confidence-  96.17080092430115\n",
            "Prediction-  1\n",
            "Confidence-  93.43388080596924\n",
            "Prediction-  1\n",
            "Confidence-  87.9831850528717\n",
            "Prediction-  1\n",
            "Confidence-  77.04757452011108\n",
            "Prediction-  1\n",
            "Confidence-  59.11087989807129\n",
            "Prediction-  9\n",
            "Confidence-  47.0910906791687\n",
            "Prediction-  9\n",
            "Confidence-  65.12649059295654\n",
            "Prediction-  9\n",
            "Confidence-  78.08045744895935\n",
            "Prediction-  9\n",
            "Confidence-  86.19557619094849\n",
            "Prediction-  9\n",
            "Confidence-  90.65443873405457\n",
            "Adverserial Image: \n"
          ],
          "name": "stdout"
        },
        {
          "output_type": "display_data",
          "data": {
            "image/png": "[encoded data removed]",
            "text/plain": [
              "<Figure size 432x288 with 1 Axes>"
            ]
          },
          "metadata": {
            "tags": [],
            "needs_background": "light"
          }
        },
        {
          "output_type": "stream",
          "text": [
            "Ground truth-  5\n",
            "Prediction-  5\n",
            "Confidence-  99.52291250228882\n",
            "Input Image: \n"
          ],
          "name": "stdout"
        },
        {
          "output_type": "display_data",
          "data": {
            "image/png": "[encoded data removed]",
            "text/plain": [
              "<Figure size 432x288 with 1 Axes>"
            ]
          },
          "metadata": {
            "tags": [],
            "needs_background": "light"
          }
        },
        {
          "output_type": "stream",
          "text": [
            "Prediction-  5\n",
            "Confidence-  99.52291250228882\n",
            "Prediction-  5\n",
            "Confidence-  98.36010336875916\n",
            "Prediction-  5\n",
            "Confidence-  96.72243595123291\n",
            "Prediction-  5\n",
            "Confidence-  93.0911660194397\n",
            "Prediction-  5\n",
            "Confidence-  85.62682867050171\n",
            "Prediction-  5\n",
            "Confidence-  70.03244161605835\n",
            "Prediction-  5\n",
            "Confidence-  44.65411603450775\n",
            "Prediction-  8\n",
            "Confidence-  66.41888618469238\n",
            "Prediction-  8\n",
            "Confidence-  82.55038857460022\n",
            "Prediction-  8\n",
            "Confidence-  91.12801551818848\n",
            "Adverserial Image: \n"
          ],
          "name": "stdout"
        },
        {
          "output_type": "display_data",
          "data": {
            "image/png": "[encoded data removed]",
            "text/plain": [
              "<Figure size 432x288 with 1 Axes>"
            ]
          },
          "metadata": {
            "tags": [],
            "needs_background": "light"
          }
        },
        {
          "output_type": "stream",
          "text": [
            "Ground truth-  1\n",
            "Prediction-  1\n",
            "Confidence-  72.5372314453125\n",
            "Input Image: \n"
          ],
          "name": "stdout"
        },
        {
          "output_type": "display_data",
          "data": {
            "image/png": "[encoded data removed]",
            "text/plain": [
              "<Figure size 432x288 with 1 Axes>"
            ]
          },
          "metadata": {
            "tags": [],
            "needs_background": "light"
          }
        },
        {
          "output_type": "stream",
          "text": [
            "Prediction-  1\n",
            "Confidence-  72.5372314453125\n",
            "Prediction-  1\n",
            "Confidence-  46.337103843688965\n",
            "Prediction-  8\n",
            "Confidence-  34.83165204524994\n",
            "Prediction-  8\n",
            "Confidence-  48.52716028690338\n",
            "Prediction-  8\n",
            "Confidence-  62.46137022972107\n",
            "Prediction-  8\n",
            "Confidence-  73.77201318740845\n",
            "Prediction-  8\n",
            "Confidence-  84.31259989738464\n",
            "Prediction-  8\n",
            "Confidence-  91.24565124511719\n",
            "Adverserial Image: \n"
          ],
          "name": "stdout"
        },
        {
          "output_type": "display_data",
          "data": {
            "image/png": "[encoded data removed]",
            "text/plain": [
              "<Figure size 432x288 with 1 Axes>"
            ]
          },
          "metadata": {
            "tags": [],
            "needs_background": "light"
          }
        },
        {
          "output_type": "stream",
          "text": [
            "Ground truth-  3\n",
            "Prediction-  3\n",
            "Confidence-  99.58651065826416\n",
            "Input Image: \n"
          ],
          "name": "stdout"
        },
        {
          "output_type": "display_data",
          "data": {
            "image/png": "[encoded data removed]",
            "text/plain": [
              "<Figure size 432x288 with 1 Axes>"
            ]
          },
          "metadata": {
            "tags": [],
            "needs_background": "light"
          }
        },
        {
          "output_type": "stream",
          "text": [
            "Prediction-  3\n",
            "Confidence-  99.58651065826416\n",
            "Prediction-  3\n",
            "Confidence-  99.15266633033752\n",
            "Prediction-  3\n",
            "Confidence-  98.729008436203\n",
            "Prediction-  3\n",
            "Confidence-  98.00915122032166\n",
            "Prediction-  3\n",
            "Confidence-  96.57036662101746\n",
            "Prediction-  3\n",
            "Confidence-  93.61736178398132\n",
            "Prediction-  3\n",
            "Confidence-  87.902170419693\n",
            "Prediction-  3\n",
            "Confidence-  77.72345542907715\n",
            "Prediction-  3\n",
            "Confidence-  63.400113582611084\n",
            "Prediction-  3\n",
            "Confidence-  46.994251012802124\n",
            "Prediction-  8\n",
            "Confidence-  42.40701198577881\n",
            "Prediction-  8\n",
            "Confidence-  55.661189556121826\n",
            "Prediction-  8\n",
            "Confidence-  67.8348183631897\n",
            "Prediction-  8\n",
            "Confidence-  79.36617732048035\n",
            "Prediction-  8\n",
            "Confidence-  87.26837635040283\n",
            "Prediction-  8\n",
            "Confidence-  92.4670934677124\n",
            "Adverserial Image: \n"
          ],
          "name": "stdout"
        },
        {
          "output_type": "display_data",
          "data": {
            "image/png": "[encoded data removed]",
            "text/plain": [
              "<Figure size 432x288 with 1 Axes>"
            ]
          },
          "metadata": {
            "tags": [],
            "needs_background": "light"
          }
        },
        {
          "output_type": "stream",
          "text": [
            "Ground truth-  5\n",
            "Prediction-  5\n",
            "Confidence-  99.83391761779785\n",
            "Input Image: \n"
          ],
          "name": "stdout"
        },
        {
          "output_type": "display_data",
          "data": {
            "image/png": "[encoded data removed]",
            "text/plain": [
              "<Figure size 432x288 with 1 Axes>"
            ]
          },
          "metadata": {
            "tags": [],
            "needs_background": "light"
          }
        },
        {
          "output_type": "stream",
          "text": [
            "Prediction-  5\n",
            "Confidence-  99.83391761779785\n",
            "Prediction-  5\n",
            "Confidence-  99.47367310523987\n",
            "Prediction-  5\n",
            "Confidence-  99.00952577590942\n",
            "Prediction-  5\n",
            "Confidence-  98.019939661026\n",
            "Prediction-  5\n",
            "Confidence-  95.7195520401001\n",
            "Prediction-  5\n",
            "Confidence-  90.1746928691864\n",
            "Prediction-  5\n",
            "Confidence-  77.65808701515198\n",
            "Prediction-  5\n",
            "Confidence-  56.533294916152954\n",
            "Prediction-  8\n",
            "Confidence-  45.676180720329285\n",
            "Prediction-  8\n",
            "Confidence-  63.88702392578125\n",
            "Prediction-  8\n",
            "Confidence-  75.63368678092957\n",
            "Prediction-  8\n",
            "Confidence-  82.27455019950867\n",
            "Prediction-  8\n",
            "Confidence-  86.93757057189941\n",
            "Prediction-  8\n",
            "Confidence-  90.41162729263306\n",
            "Adverserial Image: \n"
          ],
          "name": "stdout"
        },
        {
          "output_type": "display_data",
          "data": {
            "image/png": "[encoded data removed]",
            "text/plain": [
              "<Figure size 432x288 with 1 Axes>"
            ]
          },
          "metadata": {
            "tags": [],
            "needs_background": "light"
          }
        },
        {
          "output_type": "stream",
          "text": [
            "Ground truth-  7\n",
            "Prediction-  7\n",
            "Confidence-  99.84939098358154\n",
            "Input Image: \n"
          ],
          "name": "stdout"
        },
        {
          "output_type": "display_data",
          "data": {
            "image/png": "[encoded data removed]",
            "text/plain": [
              "<Figure size 432x288 with 1 Axes>"
            ]
          },
          "metadata": {
            "tags": [],
            "needs_background": "light"
          }
        },
        {
          "output_type": "stream",
          "text": [
            "Prediction-  7\n",
            "Confidence-  99.84939098358154\n",
            "Prediction-  7\n",
            "Confidence-  99.65103268623352\n",
            "Prediction-  7\n",
            "Confidence-  99.4574785232544\n",
            "Prediction-  7\n",
            "Confidence-  99.13051128387451\n",
            "Prediction-  7\n",
            "Confidence-  98.53746891021729\n",
            "Prediction-  7\n",
            "Confidence-  97.24190831184387\n",
            "Prediction-  7\n",
            "Confidence-  94.15633082389832\n",
            "Prediction-  7\n",
            "Confidence-  86.48754954338074\n",
            "Prediction-  7\n",
            "Confidence-  67.07754135131836\n",
            "Prediction-  8\n",
            "Confidence-  49.892833828926086\n",
            "Prediction-  8\n",
            "Confidence-  74.96414184570312\n",
            "Prediction-  8\n",
            "Confidence-  88.82858157157898\n",
            "Prediction-  8\n",
            "Confidence-  95.14327049255371\n",
            "Adverserial Image: \n"
          ],
          "name": "stdout"
        },
        {
          "output_type": "display_data",
          "data": {
            "image/png": "[encoded data removed]",
            "text/plain": [
              "<Figure size 432x288 with 1 Axes>"
            ]
          },
          "metadata": {
            "tags": [],
            "needs_background": "light"
          }
        },
        {
          "output_type": "stream",
          "text": [
            "Ground truth-  6\n",
            "Prediction-  6\n",
            "Confidence-  97.05990552902222\n",
            "Input Image: \n"
          ],
          "name": "stdout"
        },
        {
          "output_type": "display_data",
          "data": {
            "image/png": "[encoded data removed]",
            "text/plain": [
              "<Figure size 432x288 with 1 Axes>"
            ]
          },
          "metadata": {
            "tags": [],
            "needs_background": "light"
          }
        },
        {
          "output_type": "stream",
          "text": [
            "Prediction-  6\n",
            "Confidence-  97.05990552902222\n",
            "Prediction-  6\n",
            "Confidence-  94.13466453552246\n",
            "Prediction-  6\n",
            "Confidence-  91.77217483520508\n",
            "Prediction-  6\n",
            "Confidence-  87.92945146560669\n",
            "Prediction-  6\n",
            "Confidence-  82.43409395217896\n",
            "Prediction-  6\n",
            "Confidence-  75.31644701957703\n",
            "Prediction-  6\n",
            "Confidence-  66.82470440864563\n",
            "Prediction-  6\n",
            "Confidence-  56.5950870513916\n",
            "Prediction-  6\n",
            "Confidence-  44.58676874637604\n",
            "Prediction-  4\n",
            "Confidence-  50.750184059143066\n",
            "Prediction-  4\n",
            "Confidence-  60.553568601608276\n",
            "Prediction-  4\n",
            "Confidence-  68.96200776100159\n",
            "Prediction-  4\n",
            "Confidence-  75.62382817268372\n",
            "Prediction-  4\n",
            "Confidence-  81.44349455833435\n",
            "Prediction-  4\n",
            "Confidence-  85.58804392814636\n",
            "Prediction-  4\n",
            "Confidence-  88.74496221542358\n",
            "Prediction-  4\n",
            "Confidence-  90.95832705497742\n",
            "Adverserial Image: \n"
          ],
          "name": "stdout"
        },
        {
          "output_type": "display_data",
          "data": {
            "image/png": "[encoded data removed]",
            "text/plain": [
              "<Figure size 432x288 with 1 Axes>"
            ]
          },
          "metadata": {
            "tags": [],
            "needs_background": "light"
          }
        },
        {
          "output_type": "stream",
          "text": [
            "Ground truth-  4\n",
            "Prediction-  4\n",
            "Confidence-  99.63769316673279\n",
            "Input Image: \n"
          ],
          "name": "stdout"
        },
        {
          "output_type": "display_data",
          "data": {
            "image/png": "[encoded data removed]",
            "text/plain": [
              "<Figure size 432x288 with 1 Axes>"
            ]
          },
          "metadata": {
            "tags": [],
            "needs_background": "light"
          }
        },
        {
          "output_type": "stream",
          "text": [
            "Prediction-  4\n",
            "Confidence-  99.63769316673279\n",
            "Prediction-  4\n",
            "Confidence-  98.99325370788574\n",
            "Prediction-  4\n",
            "Confidence-  98.12885522842407\n",
            "Prediction-  4\n",
            "Confidence-  96.46300077438354\n",
            "Prediction-  4\n",
            "Confidence-  93.00195574760437\n",
            "Prediction-  4\n",
            "Confidence-  85.28481125831604\n",
            "Prediction-  4\n",
            "Confidence-  70.81904411315918\n",
            "Prediction-  4\n",
            "Confidence-  49.378421902656555\n",
            "Prediction-  8\n",
            "Confidence-  50.54273009300232\n",
            "Prediction-  8\n",
            "Confidence-  69.17580366134644\n",
            "Prediction-  8\n",
            "Confidence-  82.30151534080505\n",
            "Prediction-  8\n",
            "Confidence-  90.43316841125488\n",
            "Adverserial Image: \n"
          ],
          "name": "stdout"
        },
        {
          "output_type": "display_data",
          "data": {
            "image/png": "[encoded data removed]",
            "text/plain": [
              "<Figure size 432x288 with 1 Axes>"
            ]
          },
          "metadata": {
            "tags": [],
            "needs_background": "light"
          }
        },
        {
          "output_type": "stream",
          "text": [
            "Ground truth-  9\n",
            "Prediction-  9\n",
            "Confidence-  99.57606196403503\n",
            "Input Image: \n"
          ],
          "name": "stdout"
        },
        {
          "output_type": "display_data",
          "data": {
            "image/png": "[encoded data removed]",
            "text/plain": [
              "<Figure size 432x288 with 1 Axes>"
            ]
          },
          "metadata": {
            "tags": [],
            "needs_background": "light"
          }
        },
        {
          "output_type": "stream",
          "text": [
            "Prediction-  9\n",
            "Confidence-  99.57606196403503\n",
            "Prediction-  9\n",
            "Confidence-  98.89768958091736\n",
            "Prediction-  9\n",
            "Confidence-  98.21106791496277\n",
            "Prediction-  9\n",
            "Confidence-  96.88720703125\n",
            "Prediction-  9\n",
            "Confidence-  94.33189630508423\n",
            "Prediction-  9\n",
            "Confidence-  89.06276226043701\n",
            "Prediction-  9\n",
            "Confidence-  78.15874814987183\n",
            "Prediction-  9\n",
            "Confidence-  60.18267869949341\n",
            "Prediction-  9\n",
            "Confidence-  39.55966532230377\n",
            "Prediction-  8\n",
            "Confidence-  58.19046497344971\n",
            "Prediction-  8\n",
            "Confidence-  75.96619129180908\n",
            "Prediction-  8\n",
            "Confidence-  86.86026930809021\n",
            "Prediction-  8\n",
            "Confidence-  92.8321897983551\n",
            "Adverserial Image: \n"
          ],
          "name": "stdout"
        },
        {
          "output_type": "display_data",
          "data": {
            "image/png": "[encoded data removed]",
            "text/plain": [
              "<Figure size 432x288 with 1 Axes>"
            ]
          },
          "metadata": {
            "tags": [],
            "needs_background": "light"
          }
        }
      ]
    },
    {
      "cell_type": "markdown",
      "metadata": {
        "id": "FgGlmV3tI4tz"
      },
      "source": [
        "# **TARGETED ATTACKS**\n"
      ]
    },
    {
      "cell_type": "code",
      "metadata": {
        "id": "qNs2sEYTI_Ji"
      },
      "source": [
        "def fgsm_targeted(X,net,y,epsilon,ytarget):\n",
        "  delta = torch.zeros_like(X,requires_grad=True)\n",
        "  output = net(X+delta)\n",
        "  loss = criterion(output,ytarget)\n",
        "  net.zero_grad()\n",
        "  loss.backward()\n",
        "  I_new = torch.clamp(X - torch.clamp(epsilon*delta.grad.detach().sign(),max=0),-1,1)\n",
        "  return I_new"
      ],
      "execution_count": null,
      "outputs": []
    },
    {
      "cell_type": "code",
      "metadata": {
        "id": "y6hbLxap8CE-"
      },
      "source": [
        "ytarget=torch.tensor([4])\n",
        "ytarget=ytarget.to(device)"
      ],
      "execution_count": null,
      "outputs": []
    },
    {
      "cell_type": "code",
      "metadata": {
        "id": "V0hIrRpv7vN_",
        "colab": {
          "base_uri": "https://localhost:8080/",
          "height": 1000
        },
        "outputId": "8a957177-0b52-4cc1-feb7-5dcabe9e1300"
      },
      "source": [
        "i=0\n",
        "import matplotlib.pyplot as plt\n",
        "device = torch.device(\"cuda\")\n",
        "CNNnet.to(device)\n",
        "CNNnet.eval()\n",
        "count = []\n",
        "for data,target in test_loader:\n",
        "  i=i+1\n",
        "  data,target = data.to(device),target.to(device)\n",
        "  print(\"Ground truth- \", target.cpu().item())\n",
        "  output = F.softmax(CNNnet(data))\n",
        "  confidence,pred = torch.max(output,1)\n",
        "  print('Prediction- ',pred.cpu().item() )\n",
        "  print('Confidence- ' , confidence.cpu().item()*100)\n",
        "  target_list.append(target)\n",
        "  print('Input Image: ')\n",
        "  plt.imshow(data[0][0].cpu().data,cmap='gray',)\n",
        "  plt.show()\n",
        "\n",
        "  #Adverserial Image generation\n",
        "  I_new = fgsm_targeted(data,CNNnet,target,0.02,ytarget)\n",
        "  output = F.softmax(CNNnet(data))\n",
        "  confidence,pred = torch.max(output,1)\n",
        "  print('Prediction- ',pred.cpu().item() )\n",
        "  print('Confidence- ' , confidence.cpu().item()*100)\n",
        "  while pred.cpu().item() != ytarget:\n",
        "    I_new = fgsm_targeted(I_new,CNNnet,target,0.02,ytarget)\n",
        "    output = F.softmax(CNNnet(I_new))\n",
        "    confidence,pred = torch.max(output,1)\n",
        "    print('Prediction- ',pred.cpu().item())\n",
        "    print('Confidence- ' , confidence.cpu().item()*100)\n",
        "  print('Adverserial Image: ')\n",
        "  plt.imshow(I_new[0][0].cpu().data,cmap='gray',)\n",
        "  plt.show()\n",
        "  Img=I_new[0][0].unsqueeze(0)\n",
        "  Img=Img.unsqueeze(0)\n",
        "  img_adv_list.append(Img)\n",
        "  if i>=10:\n",
        "    break\n"
      ],
      "execution_count": null,
      "outputs": [
        {
          "output_type": "stream",
          "text": [
            "Ground truth-  2\n",
            "Prediction-  2\n",
            "Confidence-  99.78173971176147\n",
            "Input Image: \n"
          ],
          "name": "stdout"
        },
        {
          "output_type": "stream",
          "text": [
            "/usr/local/lib/python3.6/dist-packages/ipykernel_launcher.py:11: UserWarning: Implicit dimension choice for softmax has been deprecated. Change the call to include dim=X as an argument.\n",
            "  # This is added back by InteractiveShellApp.init_path()\n"
          ],
          "name": "stderr"
        },
        {
          "output_type": "display_data",
          "data": {
            "image/png": "[encoded data removed]",
            "text/plain": [
              "<Figure size 432x288 with 1 Axes>"
            ]
          },
          "metadata": {
            "tags": [],
            "needs_background": "light"
          }
        },
        {
          "output_type": "stream",
          "text": [
            "Prediction-  2\n",
            "Confidence-  99.78173971176147\n",
            "Prediction-  2\n",
            "Confidence-  99.4606077671051\n",
            "Prediction-  2\n",
            "Confidence-  99.11856055259705\n",
            "Prediction-  2\n",
            "Confidence-  98.4204113483429\n",
            "Prediction-  2\n",
            "Confidence-  97.15187549591064\n",
            "Prediction-  2\n",
            "Confidence-  94.75709795951843\n",
            "Prediction-  2\n",
            "Confidence-  89.25836086273193\n",
            "Prediction-  2\n",
            "Confidence-  77.61611938476562\n",
            "Prediction-  2\n",
            "Confidence-  61.45094037055969\n",
            "Prediction-  2\n",
            "Confidence-  47.21512198448181\n",
            "Prediction-  8\n",
            "Confidence-  54.334765672683716\n",
            "Prediction-  8\n",
            "Confidence-  58.35225582122803\n",
            "Prediction-  8\n"
          ],
          "name": "stdout"
        },
        {
          "output_type": "stream",
          "text": [
            "/usr/local/lib/python3.6/dist-packages/ipykernel_launcher.py:22: UserWarning: Implicit dimension choice for softmax has been deprecated. Change the call to include dim=X as an argument.\n",
            "/usr/local/lib/python3.6/dist-packages/ipykernel_launcher.py:28: UserWarning: Implicit dimension choice for softmax has been deprecated. Change the call to include dim=X as an argument.\n"
          ],
          "name": "stderr"
        },
        {
          "output_type": "stream",
          "text": [
            "Confidence-  58.950746059417725\n",
            "Prediction-  8\n",
            "Confidence-  59.34206247329712\n",
            "Prediction-  8\n",
            "Confidence-  59.09649133682251\n",
            "Prediction-  8\n",
            "Confidence-  58.06155800819397\n",
            "Prediction-  8\n",
            "Confidence-  56.186097860336304\n",
            "Prediction-  8\n",
            "Confidence-  54.5704185962677\n",
            "Prediction-  8\n",
            "Confidence-  52.72279977798462\n",
            "Prediction-  8\n",
            "Confidence-  50.14985799789429\n",
            "Prediction-  8\n",
            "Confidence-  48.26889634132385\n",
            "Prediction-  8\n",
            "Confidence-  46.45411670207977\n",
            "Prediction-  8\n",
            "Confidence-  44.430550932884216\n",
            "Prediction-  8\n",
            "Confidence-  42.590802907943726\n",
            "Prediction-  8\n",
            "Confidence-  40.5930370092392\n",
            "Prediction-  8\n",
            "Confidence-  40.07091224193573\n",
            "Prediction-  8\n",
            "Confidence-  38.519832491874695\n",
            "Prediction-  8\n",
            "Confidence-  36.60002946853638\n",
            "Prediction-  8\n",
            "Confidence-  35.030773282051086\n",
            "Prediction-  8\n",
            "Confidence-  33.07898938655853\n",
            "Prediction-  8\n",
            "Confidence-  32.03735947608948\n",
            "Prediction-  8\n",
            "Confidence-  30.041542649269104\n",
            "Prediction-  4\n",
            "Confidence-  30.311331152915955\n",
            "Adverserial Image: \n"
          ],
          "name": "stdout"
        },
        {
          "output_type": "display_data",
          "data": {
            "image/png": "[encoded data removed]",
            "text/plain": [
              "<Figure size 432x288 with 1 Axes>"
            ]
          },
          "metadata": {
            "tags": [],
            "needs_background": "light"
          }
        },
        {
          "output_type": "stream",
          "text": [
            "Ground truth-  4\n",
            "Prediction-  4\n",
            "Confidence-  86.79913878440857\n",
            "Input Image: \n"
          ],
          "name": "stdout"
        },
        {
          "output_type": "display_data",
          "data": {
            "image/png": "[encoded data removed]",
            "text/plain": [
              "<Figure size 432x288 with 1 Axes>"
            ]
          },
          "metadata": {
            "tags": [],
            "needs_background": "light"
          }
        },
        {
          "output_type": "stream",
          "text": [
            "Prediction-  4\n",
            "Confidence-  86.79913878440857\n",
            "Adverserial Image: \n"
          ],
          "name": "stdout"
        },
        {
          "output_type": "display_data",
          "data": {
            "image/png": "[encoded data removed]",
            "text/plain": [
              "<Figure size 432x288 with 1 Axes>"
            ]
          },
          "metadata": {
            "tags": [],
            "needs_background": "light"
          }
        },
        {
          "output_type": "stream",
          "text": [
            "Ground truth-  9\n",
            "Prediction-  9\n",
            "Confidence-  99.33779835700989\n",
            "Input Image: \n"
          ],
          "name": "stdout"
        },
        {
          "output_type": "display_data",
          "data": {
            "image/png": "[encoded data removed]",
            "text/plain": [
              "<Figure size 432x288 with 1 Axes>"
            ]
          },
          "metadata": {
            "tags": [],
            "needs_background": "light"
          }
        },
        {
          "output_type": "stream",
          "text": [
            "Prediction-  9\n",
            "Confidence-  99.33779835700989\n",
            "Prediction-  9\n",
            "Confidence-  98.50507974624634\n",
            "Prediction-  9\n",
            "Confidence-  97.59140610694885\n",
            "Prediction-  9\n",
            "Confidence-  95.92544436454773\n",
            "Prediction-  9\n",
            "Confidence-  93.02106499671936\n",
            "Prediction-  9\n",
            "Confidence-  87.83498406410217\n",
            "Prediction-  9\n",
            "Confidence-  80.11310696601868\n",
            "Prediction-  9\n",
            "Confidence-  68.65920424461365\n",
            "Prediction-  9\n",
            "Confidence-  54.78959083557129\n",
            "Prediction-  9\n",
            "Confidence-  41.72434210777283\n",
            "Prediction-  8\n",
            "Confidence-  34.83624458312988\n",
            "Prediction-  8\n",
            "Confidence-  33.92111659049988\n",
            "Prediction-  8\n",
            "Confidence-  31.66024684906006\n",
            "Prediction-  8\n",
            "Confidence-  28.494641184806824\n",
            "Prediction-  4\n",
            "Confidence-  29.903995990753174\n",
            "Adverserial Image: \n"
          ],
          "name": "stdout"
        },
        {
          "output_type": "display_data",
          "data": {
            "image/png": "[encoded data removed]",
            "text/plain": [
              "<Figure size 432x288 with 1 Axes>"
            ]
          },
          "metadata": {
            "tags": [],
            "needs_background": "light"
          }
        },
        {
          "output_type": "stream",
          "text": [
            "Ground truth-  2\n",
            "Prediction-  2\n",
            "Confidence-  93.292635679245\n",
            "Input Image: \n"
          ],
          "name": "stdout"
        },
        {
          "output_type": "display_data",
          "data": {
            "image/png": "[encoded data removed]",
            "text/plain": [
              "<Figure size 432x288 with 1 Axes>"
            ]
          },
          "metadata": {
            "tags": [],
            "needs_background": "light"
          }
        },
        {
          "output_type": "stream",
          "text": [
            "Prediction-  2\n",
            "Confidence-  93.292635679245\n",
            "Prediction-  2\n",
            "Confidence-  87.39243745803833\n",
            "Prediction-  2\n",
            "Confidence-  82.95000791549683\n",
            "Prediction-  2\n",
            "Confidence-  77.08449959754944\n",
            "Prediction-  2\n",
            "Confidence-  69.83176469802856\n",
            "Prediction-  2\n",
            "Confidence-  60.87043285369873\n",
            "Prediction-  2\n",
            "Confidence-  50.72823166847229\n",
            "Prediction-  2\n",
            "Confidence-  39.96201157569885\n",
            "Prediction-  2\n",
            "Confidence-  30.510172247886658\n",
            "Prediction-  7\n",
            "Confidence-  25.892892479896545\n",
            "Prediction-  7\n",
            "Confidence-  28.384900093078613\n",
            "Prediction-  4\n",
            "Confidence-  30.820024013519287\n",
            "Adverserial Image: \n"
          ],
          "name": "stdout"
        },
        {
          "output_type": "display_data",
          "data": {
            "image/png": "[encoded data removed]",
            "text/plain": [
              "<Figure size 432x288 with 1 Axes>"
            ]
          },
          "metadata": {
            "tags": [],
            "needs_background": "light"
          }
        },
        {
          "output_type": "stream",
          "text": [
            "Ground truth-  1\n",
            "Prediction-  1\n",
            "Confidence-  97.97479510307312\n",
            "Input Image: \n"
          ],
          "name": "stdout"
        },
        {
          "output_type": "display_data",
          "data": {
            "image/png": "[encoded data removed]",
            "text/plain": [
              "<Figure size 432x288 with 1 Axes>"
            ]
          },
          "metadata": {
            "tags": [],
            "needs_background": "light"
          }
        },
        {
          "output_type": "stream",
          "text": [
            "Prediction-  1\n",
            "Confidence-  97.97479510307312\n",
            "Prediction-  1\n",
            "Confidence-  95.13278007507324\n",
            "Prediction-  1\n",
            "Confidence-  91.85202121734619\n",
            "Prediction-  1\n",
            "Confidence-  86.43108606338501\n",
            "Prediction-  1\n",
            "Confidence-  78.48564982414246\n",
            "Prediction-  1\n",
            "Confidence-  69.69131231307983\n",
            "Prediction-  1\n",
            "Confidence-  60.89791655540466\n",
            "Prediction-  1\n",
            "Confidence-  53.24833393096924\n",
            "Prediction-  1\n",
            "Confidence-  47.9365348815918\n",
            "Prediction-  8\n",
            "Confidence-  46.06062471866608\n",
            "Prediction-  8\n",
            "Confidence-  47.46606945991516\n",
            "Prediction-  8\n",
            "Confidence-  46.68014645576477\n",
            "Prediction-  8\n",
            "Confidence-  45.34713625907898\n",
            "Prediction-  8\n",
            "Confidence-  42.71123707294464\n",
            "Prediction-  8\n",
            "Confidence-  39.116716384887695\n",
            "Prediction-  8\n",
            "Confidence-  34.072479605674744\n",
            "Prediction-  4\n",
            "Confidence-  39.25621807575226\n",
            "Adverserial Image: \n"
          ],
          "name": "stdout"
        },
        {
          "output_type": "display_data",
          "data": {
            "image/png": "[encoded data removed]",
            "text/plain": [
              "<Figure size 432x288 with 1 Axes>"
            ]
          },
          "metadata": {
            "tags": [],
            "needs_background": "light"
          }
        },
        {
          "output_type": "stream",
          "text": [
            "Ground truth-  1\n",
            "Prediction-  1\n",
            "Confidence-  99.44885969161987\n",
            "Input Image: \n"
          ],
          "name": "stdout"
        },
        {
          "output_type": "display_data",
          "data": {
            "image/png": "[encoded data removed]",
            "text/plain": [
              "<Figure size 432x288 with 1 Axes>"
            ]
          },
          "metadata": {
            "tags": [],
            "needs_background": "light"
          }
        },
        {
          "output_type": "stream",
          "text": [
            "Prediction-  1\n",
            "Confidence-  99.44885969161987\n",
            "Prediction-  1\n",
            "Confidence-  98.94673228263855\n",
            "Prediction-  1\n",
            "Confidence-  98.50186705589294\n",
            "Prediction-  1\n",
            "Confidence-  97.79301881790161\n",
            "Prediction-  1\n",
            "Confidence-  96.5478241443634\n",
            "Prediction-  1\n",
            "Confidence-  94.30794715881348\n",
            "Prediction-  1\n",
            "Confidence-  90.65828919410706\n",
            "Prediction-  1\n",
            "Confidence-  84.59258675575256\n",
            "Prediction-  1\n",
            "Confidence-  76.23739838600159\n",
            "Prediction-  1\n",
            "Confidence-  65.21241664886475\n",
            "Prediction-  1\n",
            "Confidence-  52.364909648895264\n",
            "Prediction-  1\n",
            "Confidence-  39.16926085948944\n",
            "Prediction-  4\n",
            "Confidence-  33.958324790000916\n",
            "Adverserial Image: \n"
          ],
          "name": "stdout"
        },
        {
          "output_type": "display_data",
          "data": {
            "image/png": "[encoded data removed]",
            "text/plain": [
              "<Figure size 432x288 with 1 Axes>"
            ]
          },
          "metadata": {
            "tags": [],
            "needs_background": "light"
          }
        },
        {
          "output_type": "stream",
          "text": [
            "Ground truth-  4\n",
            "Prediction-  4\n",
            "Confidence-  99.20138716697693\n",
            "Input Image: \n"
          ],
          "name": "stdout"
        },
        {
          "output_type": "display_data",
          "data": {
            "image/png": "[encoded data removed]",
            "text/plain": [
              "<Figure size 432x288 with 1 Axes>"
            ]
          },
          "metadata": {
            "tags": [],
            "needs_background": "light"
          }
        },
        {
          "output_type": "stream",
          "text": [
            "Prediction-  4\n",
            "Confidence-  99.20138716697693\n",
            "Adverserial Image: \n"
          ],
          "name": "stdout"
        },
        {
          "output_type": "display_data",
          "data": {
            "image/png": "[encoded data removed]",
            "text/plain": [
              "<Figure size 432x288 with 1 Axes>"
            ]
          },
          "metadata": {
            "tags": [],
            "needs_background": "light"
          }
        },
        {
          "output_type": "stream",
          "text": [
            "Ground truth-  7\n",
            "Prediction-  7\n",
            "Confidence-  99.75587129592896\n",
            "Input Image: \n"
          ],
          "name": "stdout"
        },
        {
          "output_type": "display_data",
          "data": {
            "image/png": "[encoded data removed]",
            "text/plain": [
              "<Figure size 432x288 with 1 Axes>"
            ]
          },
          "metadata": {
            "tags": [],
            "needs_background": "light"
          }
        },
        {
          "output_type": "stream",
          "text": [
            "Prediction-  7\n",
            "Confidence-  99.75587129592896\n",
            "Prediction-  7\n",
            "Confidence-  99.52436089515686\n",
            "Prediction-  7\n",
            "Confidence-  99.32102560997009\n",
            "Prediction-  7\n",
            "Confidence-  99.00147914886475\n",
            "Prediction-  7\n",
            "Confidence-  98.46241474151611\n",
            "Prediction-  7\n",
            "Confidence-  97.53627181053162\n",
            "Prediction-  7\n",
            "Confidence-  95.78115940093994\n",
            "Prediction-  7\n",
            "Confidence-  92.52635836601257\n",
            "Prediction-  7\n",
            "Confidence-  86.31350994110107\n",
            "Prediction-  7\n",
            "Confidence-  75.34642815589905\n",
            "Prediction-  7\n",
            "Confidence-  60.973912477493286\n",
            "Prediction-  7\n",
            "Confidence-  51.774609088897705\n",
            "Prediction-  7\n",
            "Confidence-  45.672112703323364\n",
            "Prediction-  7\n",
            "Confidence-  41.95918142795563\n",
            "Prediction-  7\n",
            "Confidence-  39.91540968418121\n",
            "Prediction-  7\n",
            "Confidence-  39.065879583358765\n",
            "Prediction-  7\n",
            "Confidence-  38.05028200149536\n",
            "Prediction-  7\n",
            "Confidence-  38.21123242378235\n",
            "Prediction-  7\n",
            "Confidence-  37.76564002037048\n",
            "Prediction-  7\n",
            "Confidence-  36.568835377693176\n",
            "Prediction-  7\n",
            "Confidence-  34.96142327785492\n",
            "Prediction-  7\n",
            "Confidence-  33.81165564060211\n",
            "Prediction-  7\n",
            "Confidence-  32.83842206001282\n",
            "Prediction-  4\n",
            "Confidence-  34.71703231334686\n",
            "Adverserial Image: \n"
          ],
          "name": "stdout"
        },
        {
          "output_type": "display_data",
          "data": {
            "image/png": "[encoded data removed]",
            "text/plain": [
              "<Figure size 432x288 with 1 Axes>"
            ]
          },
          "metadata": {
            "tags": [],
            "needs_background": "light"
          }
        },
        {
          "output_type": "stream",
          "text": [
            "Ground truth-  6\n",
            "Prediction-  6\n",
            "Confidence-  99.65904951095581\n",
            "Input Image: \n"
          ],
          "name": "stdout"
        },
        {
          "output_type": "display_data",
          "data": {
            "image/png": "[encoded data removed]",
            "text/plain": [
              "<Figure size 432x288 with 1 Axes>"
            ]
          },
          "metadata": {
            "tags": [],
            "needs_background": "light"
          }
        },
        {
          "output_type": "stream",
          "text": [
            "Prediction-  6\n",
            "Confidence-  99.65904951095581\n",
            "Prediction-  6\n",
            "Confidence-  99.4314968585968\n",
            "Prediction-  6\n",
            "Confidence-  99.25388693809509\n",
            "Prediction-  6\n",
            "Confidence-  98.99667501449585\n",
            "Prediction-  6\n",
            "Confidence-  98.59909415245056\n",
            "Prediction-  6\n",
            "Confidence-  97.99380898475647\n",
            "Prediction-  6\n",
            "Confidence-  96.93694114685059\n",
            "Prediction-  6\n",
            "Confidence-  95.15523910522461\n",
            "Prediction-  6\n",
            "Confidence-  92.01035499572754\n",
            "Prediction-  6\n",
            "Confidence-  86.89191341400146\n",
            "Prediction-  6\n",
            "Confidence-  79.44057583808899\n",
            "Prediction-  6\n",
            "Confidence-  69.25628185272217\n",
            "Prediction-  6\n",
            "Confidence-  57.52403140068054\n",
            "Prediction-  6\n",
            "Confidence-  45.04069685935974\n",
            "Prediction-  4\n",
            "Confidence-  48.04724454879761\n",
            "Adverserial Image: \n"
          ],
          "name": "stdout"
        },
        {
          "output_type": "display_data",
          "data": {
            "image/png": "[encoded data removed]",
            "text/plain": [
              "<Figure size 432x288 with 1 Axes>"
            ]
          },
          "metadata": {
            "tags": [],
            "needs_background": "light"
          }
        },
        {
          "output_type": "stream",
          "text": [
            "Ground truth-  5\n",
            "Prediction-  5\n",
            "Confidence-  99.69859719276428\n",
            "Input Image: \n"
          ],
          "name": "stdout"
        },
        {
          "output_type": "display_data",
          "data": {
            "image/png": "[encoded data removed]",
            "text/plain": [
              "<Figure size 432x288 with 1 Axes>"
            ]
          },
          "metadata": {
            "tags": [],
            "needs_background": "light"
          }
        },
        {
          "output_type": "stream",
          "text": [
            "Prediction-  5\n",
            "Confidence-  99.69859719276428\n",
            "Prediction-  5\n",
            "Confidence-  99.2077648639679\n",
            "Prediction-  5\n",
            "Confidence-  98.64177703857422\n",
            "Prediction-  5\n",
            "Confidence-  97.31957912445068\n",
            "Prediction-  5\n",
            "Confidence-  94.35224533081055\n",
            "Prediction-  5\n",
            "Confidence-  87.57960200309753\n",
            "Prediction-  5\n",
            "Confidence-  74.59176778793335\n",
            "Prediction-  5\n",
            "Confidence-  59.58923697471619\n",
            "Prediction-  5\n",
            "Confidence-  47.06619679927826\n",
            "Prediction-  5\n",
            "Confidence-  40.27819633483887\n",
            "Prediction-  8\n",
            "Confidence-  40.22592306137085\n",
            "Prediction-  8\n",
            "Confidence-  40.444907546043396\n",
            "Prediction-  8\n",
            "Confidence-  39.625513553619385\n",
            "Prediction-  8\n",
            "Confidence-  37.79408037662506\n",
            "Prediction-  8\n",
            "Confidence-  35.77951192855835\n",
            "Prediction-  8\n",
            "Confidence-  34.281137585639954\n",
            "Prediction-  8\n",
            "Confidence-  32.71850347518921\n",
            "Prediction-  4\n",
            "Confidence-  32.999175786972046\n",
            "Adverserial Image: \n"
          ],
          "name": "stdout"
        },
        {
          "output_type": "display_data",
          "data": {
            "image/png": "[encoded data removed]",
            "text/plain": [
              "<Figure size 432x288 with 1 Axes>"
            ]
          },
          "metadata": {
            "tags": [],
            "needs_background": "light"
          }
        }
      ]
    },
    {
      "cell_type": "markdown",
      "metadata": {
        "id": "4IBcP46-yTrl"
      },
      "source": [
        "### **Retraining the Network**"
      ]
    },
    {
      "cell_type": "code",
      "metadata": {
        "id": "BVifMcFLyZV5",
        "colab": {
          "base_uri": "https://localhost:8080/",
          "height": 34
        },
        "outputId": "b1d6db77-fe73-4851-a037-71a33304bc7b"
      },
      "source": [
        "device = torch.device(\"cuda\")\n",
        "CNNnet=Net()\n",
        "CNNnet.cuda()\n",
        "criterion = nn.CrossEntropyLoss()\n",
        "optimizer = optim.Adam(CNNnet.parameters(), lr=0.0001,weight_decay=1e-4)\n",
        "torch.manual_seed(17)"
      ],
      "execution_count": null,
      "outputs": [
        {
          "output_type": "execute_result",
          "data": {
            "text/plain": [
              "<torch._C.Generator at 0x7ff05d03c228>"
            ]
          },
          "metadata": {
            "tags": []
          },
          "execution_count": 20
        }
      ]
    },
    {
      "cell_type": "code",
      "metadata": {
        "id": "nTI-OtJYylWC",
        "colab": {
          "base_uri": "https://localhost:8080/",
          "height": 84
        },
        "outputId": "2fdf452c-5351-45fa-81fd-923e1b9ee2c9"
      },
      "source": [
        "train_model(train_loader, optimizer, criterion, CNNnet)"
      ],
      "execution_count": null,
      "outputs": [
        {
          "output_type": "stream",
          "text": [
            "0 Train accuracy 95.5 0.44355089190418023\n",
            "1 Train accuracy 98.77833333333334 0.10059434630429503\n",
            "2 Train accuracy 99.18 0.05159268799974625\n",
            "3 Train accuracy 99.37333333333333 0.034209818285363694\n"
          ],
          "name": "stdout"
        }
      ]
    },
    {
      "cell_type": "code",
      "metadata": {
        "id": "qW-ETjS9zSr8",
        "colab": {
          "base_uri": "https://localhost:8080/",
          "height": 1000
        },
        "outputId": "18aa885e-91c0-43d2-828c-dac5addf3d60"
      },
      "source": [
        "import matplotlib.pyplot as plt\n",
        "device = torch.device(\"cuda\")\n",
        "CNNnet.to(device)\n",
        "for i in range(20):\n",
        "  print(\"Ground truth- \", target_list[i].cpu().item())\n",
        "  CNNnet.eval()\n",
        "  output = F.softmax(CNNnet(img_adv_list[i]))\n",
        "  confidence,pred = torch.max(output,1)\n",
        "  print('Prediction- ',pred.cpu().item() )\n",
        "  print('Confidence- ' , confidence.cpu().item()*100)\n",
        "  print('Input Image: ')\n",
        "  plt.imshow(img_adv_list[i][0][0].cpu().data,cmap='gray',)\n",
        "  plt.show()"
      ],
      "execution_count": null,
      "outputs": [
        {
          "output_type": "stream",
          "text": [
            "Ground truth-  6\n",
            "Prediction-  6\n",
            "Confidence-  66.2740170955658\n",
            "Input Image: \n"
          ],
          "name": "stdout"
        },
        {
          "output_type": "stream",
          "text": [
            "/usr/local/lib/python3.6/dist-packages/ipykernel_launcher.py:7: UserWarning: Implicit dimension choice for softmax has been deprecated. Change the call to include dim=X as an argument.\n",
            "  import sys\n"
          ],
          "name": "stderr"
        },
        {
          "output_type": "display_data",
          "data": {
            "image/png": "[encoded data removed]",
            "text/plain": [
              "<Figure size 432x288 with 1 Axes>"
            ]
          },
          "metadata": {
            "tags": [],
            "needs_background": "light"
          }
        },
        {
          "output_type": "stream",
          "text": [
            "Ground truth-  1\n",
            "Prediction-  4\n",
            "Confidence-  32.854169607162476\n",
            "Input Image: \n"
          ],
          "name": "stdout"
        },
        {
          "output_type": "display_data",
          "data": {
            "image/png": "[encoded data removed]",
            "text/plain": [
              "<Figure size 432x288 with 1 Axes>"
            ]
          },
          "metadata": {
            "tags": [],
            "needs_background": "light"
          }
        },
        {
          "output_type": "stream",
          "text": [
            "Ground truth-  5\n",
            "Prediction-  8\n",
            "Confidence-  80.78929781913757\n",
            "Input Image: \n"
          ],
          "name": "stdout"
        },
        {
          "output_type": "display_data",
          "data": {
            "image/png": "[encoded data removed]",
            "text/plain": [
              "<Figure size 432x288 with 1 Axes>"
            ]
          },
          "metadata": {
            "tags": [],
            "needs_background": "light"
          }
        },
        {
          "output_type": "stream",
          "text": [
            "Ground truth-  1\n",
            "Prediction-  4\n",
            "Confidence-  56.296730041503906\n",
            "Input Image: \n"
          ],
          "name": "stdout"
        },
        {
          "output_type": "display_data",
          "data": {
            "image/png": "[encoded data removed]",
            "text/plain": [
              "<Figure size 432x288 with 1 Axes>"
            ]
          },
          "metadata": {
            "tags": [],
            "needs_background": "light"
          }
        },
        {
          "output_type": "stream",
          "text": [
            "Ground truth-  3\n",
            "Prediction-  3\n",
            "Confidence-  51.12531781196594\n",
            "Input Image: \n"
          ],
          "name": "stdout"
        },
        {
          "output_type": "display_data",
          "data": {
            "image/png": "[encoded data removed]",
            "text/plain": [
              "<Figure size 432x288 with 1 Axes>"
            ]
          },
          "metadata": {
            "tags": [],
            "needs_background": "light"
          }
        },
        {
          "output_type": "stream",
          "text": [
            "Ground truth-  5\n",
            "Prediction-  4\n",
            "Confidence-  31.15217089653015\n",
            "Input Image: \n"
          ],
          "name": "stdout"
        },
        {
          "output_type": "display_data",
          "data": {
            "image/png": "[encoded data removed]",
            "text/plain": [
              "<Figure size 432x288 with 1 Axes>"
            ]
          },
          "metadata": {
            "tags": [],
            "needs_background": "light"
          }
        },
        {
          "output_type": "stream",
          "text": [
            "Ground truth-  7\n",
            "Prediction-  8\n",
            "Confidence-  34.273916482925415\n",
            "Input Image: \n"
          ],
          "name": "stdout"
        },
        {
          "output_type": "display_data",
          "data": {
            "image/png": "[encoded data removed]",
            "text/plain": [
              "<Figure size 432x288 with 1 Axes>"
            ]
          },
          "metadata": {
            "tags": [],
            "needs_background": "light"
          }
        },
        {
          "output_type": "stream",
          "text": [
            "Ground truth-  6\n",
            "Prediction-  4\n",
            "Confidence-  89.16478753089905\n",
            "Input Image: \n"
          ],
          "name": "stdout"
        },
        {
          "output_type": "display_data",
          "data": {
            "image/png": "[encoded data removed]",
            "text/plain": [
              "<Figure size 432x288 with 1 Axes>"
            ]
          },
          "metadata": {
            "tags": [],
            "needs_background": "light"
          }
        },
        {
          "output_type": "stream",
          "text": [
            "Ground truth-  4\n",
            "Prediction-  4\n",
            "Confidence-  98.14815521240234\n",
            "Input Image: \n"
          ],
          "name": "stdout"
        },
        {
          "output_type": "display_data",
          "data": {
            "image/png": "[encoded data removed]",
            "text/plain": [
              "<Figure size 432x288 with 1 Axes>"
            ]
          },
          "metadata": {
            "tags": [],
            "needs_background": "light"
          }
        },
        {
          "output_type": "stream",
          "text": [
            "Ground truth-  9\n",
            "Prediction-  9\n",
            "Confidence-  69.19253468513489\n",
            "Input Image: \n"
          ],
          "name": "stdout"
        },
        {
          "output_type": "display_data",
          "data": {
            "image/png": "[encoded data removed]",
            "text/plain": [
              "<Figure size 432x288 with 1 Axes>"
            ]
          },
          "metadata": {
            "tags": [],
            "needs_background": "light"
          }
        },
        {
          "output_type": "stream",
          "text": [
            "Ground truth-  2\n",
            "Prediction-  4\n",
            "Confidence-  59.05848741531372\n",
            "Input Image: \n"
          ],
          "name": "stdout"
        },
        {
          "output_type": "display_data",
          "data": {
            "image/png": "[encoded data removed]",
            "text/plain": [
              "<Figure size 432x288 with 1 Axes>"
            ]
          },
          "metadata": {
            "tags": [],
            "needs_background": "light"
          }
        },
        {
          "output_type": "stream",
          "text": [
            "Ground truth-  4\n",
            "Prediction-  4\n",
            "Confidence-  98.70840907096863\n",
            "Input Image: \n"
          ],
          "name": "stdout"
        },
        {
          "output_type": "display_data",
          "data": {
            "image/png": "[encoded data removed]",
            "text/plain": [
              "<Figure size 432x288 with 1 Axes>"
            ]
          },
          "metadata": {
            "tags": [],
            "needs_background": "light"
          }
        },
        {
          "output_type": "stream",
          "text": [
            "Ground truth-  9\n",
            "Prediction-  9\n",
            "Confidence-  47.892504930496216\n",
            "Input Image: \n"
          ],
          "name": "stdout"
        },
        {
          "output_type": "display_data",
          "data": {
            "image/png": "[encoded data removed]",
            "text/plain": [
              "<Figure size 432x288 with 1 Axes>"
            ]
          },
          "metadata": {
            "tags": [],
            "needs_background": "light"
          }
        },
        {
          "output_type": "stream",
          "text": [
            "Ground truth-  2\n",
            "Prediction-  2\n",
            "Confidence-  69.07830834388733\n",
            "Input Image: \n"
          ],
          "name": "stdout"
        },
        {
          "output_type": "display_data",
          "data": {
            "image/png": "[encoded data removed]",
            "text/plain": [
              "<Figure size 432x288 with 1 Axes>"
            ]
          },
          "metadata": {
            "tags": [],
            "needs_background": "light"
          }
        },
        {
          "output_type": "stream",
          "text": [
            "Ground truth-  1\n",
            "Prediction-  4\n",
            "Confidence-  75.44956803321838\n",
            "Input Image: \n"
          ],
          "name": "stdout"
        },
        {
          "output_type": "display_data",
          "data": {
            "image/png": "[encoded data removed]",
            "text/plain": [
              "<Figure size 432x288 with 1 Axes>"
            ]
          },
          "metadata": {
            "tags": [],
            "needs_background": "light"
          }
        },
        {
          "output_type": "stream",
          "text": [
            "Ground truth-  1\n",
            "Prediction-  4\n",
            "Confidence-  74.44939613342285\n",
            "Input Image: \n"
          ],
          "name": "stdout"
        },
        {
          "output_type": "display_data",
          "data": {
            "image/png": "[encoded data removed]",
            "text/plain": [
              "<Figure size 432x288 with 1 Axes>"
            ]
          },
          "metadata": {
            "tags": [],
            "needs_background": "light"
          }
        },
        {
          "output_type": "stream",
          "text": [
            "Ground truth-  4\n",
            "Prediction-  4\n",
            "Confidence-  98.88924956321716\n",
            "Input Image: \n"
          ],
          "name": "stdout"
        },
        {
          "output_type": "display_data",
          "data": {
            "image/png": "[encoded data removed]",
            "text/plain": [
              "<Figure size 432x288 with 1 Axes>"
            ]
          },
          "metadata": {
            "tags": [],
            "needs_background": "light"
          }
        },
        {
          "output_type": "stream",
          "text": [
            "Ground truth-  7\n",
            "Prediction-  4\n",
            "Confidence-  42.81095862388611\n",
            "Input Image: \n"
          ],
          "name": "stdout"
        },
        {
          "output_type": "display_data",
          "data": {
            "image/png": "[encoded data removed]",
            "text/plain": [
              "<Figure size 432x288 with 1 Axes>"
            ]
          },
          "metadata": {
            "tags": [],
            "needs_background": "light"
          }
        },
        {
          "output_type": "stream",
          "text": [
            "Ground truth-  6\n",
            "Prediction-  6\n",
            "Confidence-  92.37715005874634\n",
            "Input Image: \n"
          ],
          "name": "stdout"
        },
        {
          "output_type": "display_data",
          "data": {
            "image/png": "[encoded data removed]",
            "text/plain": [
              "<Figure size 432x288 with 1 Axes>"
            ]
          },
          "metadata": {
            "tags": [],
            "needs_background": "light"
          }
        },
        {
          "output_type": "stream",
          "text": [
            "Ground truth-  5\n",
            "Prediction-  4\n",
            "Confidence-  59.21730995178223\n",
            "Input Image: \n"
          ],
          "name": "stdout"
        },
        {
          "output_type": "display_data",
          "data": {
            "image/png": "[encoded data removed]",
            "text/plain": [
              "<Figure size 432x288 with 1 Axes>"
            ]
          },
          "metadata": {
            "tags": [],
            "needs_background": "light"
          }
        }
      ]
    }
  ]
}
